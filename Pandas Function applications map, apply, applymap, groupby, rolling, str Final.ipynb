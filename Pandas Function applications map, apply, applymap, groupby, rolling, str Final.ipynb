{
 "cells": [
  {
   "cell_type": "code",
   "execution_count": 2,
   "metadata": {},
   "outputs": [
    {
     "data": {
      "text/html": [
       "<style>\n",
       ".output {\n",
       "    flex-direction: row;\n",
       "}\n",
       "</style>"
      ],
      "text/plain": [
       "<IPython.core.display.HTML object>"
      ]
     },
     "execution_count": 2,
     "metadata": {},
     "output_type": "execute_result"
    }
   ],
   "source": [
    "# @hidden_cell\n",
    "\n",
    "from IPython.display import display, HTML\n",
    "\n",
    "CSS = \"\"\"\n",
    ".output {\n",
    "    flex-direction: row\n",
    "}\n",
    "\"\"\"\n",
    "\n",
    "HTML('<style>{}</style>'.format(CSS))\n"
   ]
  },
  {
   "cell_type": "markdown",
   "metadata": {},
   "source": [
    "\n",
    "# Agenda: \n",
    "* Introducing Pandas Functions\n",
    "* Pandas Functions with Examples"
   ]
  },
  {
   "cell_type": "markdown",
   "metadata": {},
   "source": [
    "## Introducing Pandas Functions\n",
    "\n",
    "   * map\n",
    "   * apply\n",
    "   * applymap\n",
    "   * groupby\n",
    "   * Rolling\n",
    "   * str"
   ]
  },
  {
   "cell_type": "markdown",
   "metadata": {},
   "source": [
    "* Before you apply any fucntion on pandas object you need to be clear with type of operation\n",
    "you want to perform on data. Basically, we can categorize operations on pandas object into 3 types,\n",
    "   * Table wise operation (pipe)\n",
    "   * Row or Columns wise operation(map,apply,groupby)\n",
    "   * Element wise operation(appplymap)\n",
    "\n",
    "\n",
    "* Let's  see how we can choose them based on scenario."
   ]
  },
  {
   "cell_type": "markdown",
   "metadata": {},
   "source": [
    "* We have dataset which contains marks students secured in various subjects from school 'XYZ'.<br/>"
   ]
  },
  {
   "cell_type": "markdown",
   "metadata": {},
   "source": [
    "** Marks of students from schools 'XYZ'**"
   ]
  },
  {
   "cell_type": "code",
   "execution_count": 60,
   "metadata": {
    "scrolled": true
   },
   "outputs": [
    {
     "data": {
      "text/html": [
       "<div>\n",
       "<style>\n",
       "    .dataframe thead tr:only-child th {\n",
       "        text-align: right;\n",
       "    }\n",
       "\n",
       "    .dataframe thead th {\n",
       "        text-align: left;\n",
       "    }\n",
       "\n",
       "    .dataframe tbody tr th {\n",
       "        vertical-align: top;\n",
       "    }\n",
       "</style>\n",
       "<table border=\"1\" class=\"dataframe\">\n",
       "  <thead>\n",
       "    <tr style=\"text-align: right;\">\n",
       "      <th></th>\n",
       "      <th>Maths</th>\n",
       "      <th>Science</th>\n",
       "      <th>Hindi</th>\n",
       "      <th>English</th>\n",
       "      <th>SST</th>\n",
       "    </tr>\n",
       "  </thead>\n",
       "  <tbody>\n",
       "    <tr>\n",
       "      <th>Virat</th>\n",
       "      <td>15.0</td>\n",
       "      <td>18.0</td>\n",
       "      <td>19.0</td>\n",
       "      <td>15.0</td>\n",
       "      <td>10.0</td>\n",
       "    </tr>\n",
       "    <tr>\n",
       "      <th>Dhoni</th>\n",
       "      <td>10.0</td>\n",
       "      <td>11.0</td>\n",
       "      <td>17.0</td>\n",
       "      <td>16.0</td>\n",
       "      <td>19.0</td>\n",
       "    </tr>\n",
       "    <tr>\n",
       "      <th>Ronald</th>\n",
       "      <td>12.0</td>\n",
       "      <td>14.0</td>\n",
       "      <td>15.0</td>\n",
       "      <td>12.0</td>\n",
       "      <td>14.0</td>\n",
       "    </tr>\n",
       "    <tr>\n",
       "      <th>David</th>\n",
       "      <td>12.0</td>\n",
       "      <td>14.0</td>\n",
       "      <td>17.0</td>\n",
       "      <td>17.0</td>\n",
       "      <td>19.0</td>\n",
       "    </tr>\n",
       "    <tr>\n",
       "      <th>sunil chhetri</th>\n",
       "      <td>11.0</td>\n",
       "      <td>17.0</td>\n",
       "      <td>10.0</td>\n",
       "      <td>16.0</td>\n",
       "      <td>19.0</td>\n",
       "    </tr>\n",
       "    <tr>\n",
       "      <th>Ajay</th>\n",
       "      <td>NaN</td>\n",
       "      <td>NaN</td>\n",
       "      <td>30.0</td>\n",
       "      <td>NaN</td>\n",
       "      <td>25.0</td>\n",
       "    </tr>\n",
       "  </tbody>\n",
       "</table>\n",
       "</div>"
      ],
      "text/plain": [
       "               Maths  Science  Hindi  English   SST\n",
       "Virat           15.0     18.0   19.0     15.0  10.0\n",
       "Dhoni           10.0     11.0   17.0     16.0  19.0\n",
       "Ronald          12.0     14.0   15.0     12.0  14.0\n",
       "David           12.0     14.0   17.0     17.0  19.0\n",
       "sunil chhetri   11.0     17.0   10.0     16.0  19.0\n",
       "Ajay             NaN      NaN   30.0      NaN  25.0"
      ]
     },
     "metadata": {},
     "output_type": "display_data"
    }
   ],
   "source": [
    "import pandas as pd\n",
    "import numpy as np\n",
    "from IPython.display import display, HTML\n",
    "\n",
    "np.random.seed(1)\n",
    "marks = pd.DataFrame(np.random.randint(10,20,size=(5,5)), \n",
    "                     columns=['Maths','Science','Hindi','English','SST'], \n",
    "                     index=['Virat','Dhoni','Ronald','David','sunil chhetri'])\n",
    "new_entry = pd.DataFrame({'Maths':np.nan,'Science':np.nan,'Hindi':30.0,'English':np.nan,'SST':25.0},\n",
    "                         index=['Ajay'],columns=['Maths','Science','Hindi','English','SST'])\n",
    "marks = marks.append(new_entry)\n",
    "display(marks)"
   ]
  },
  {
   "cell_type": "markdown",
   "metadata": {},
   "source": [
    "## Pandas Functions with Example"
   ]
  },
  {
   "cell_type": "markdown",
   "metadata": {},
   "source": [
    "### pipe [ pd.DataFrame.pipe() ] ]\n",
    "* Parameters: Function\n",
    "* Result: object with the return type of function\n",
    "\n",
    "\n",
    "* Calls user-defined methods on an object in method chains. Example: f(g(h(df), arg1=a), arg2=b, arg3=c)\n",
    " "
   ]
  },
  {
   "cell_type": "markdown",
   "metadata": {},
   "source": [
    "**Case**<br/>\n",
    "\n",
    "English Teacher  wants to find how many students got marks above 15."
   ]
  },
  {
   "cell_type": "markdown",
   "metadata": {},
   "source": [
    "**Solution**"
   ]
  },
  {
   "cell_type": "markdown",
   "metadata": {},
   "source": [
    "** Pipe of length 1 **"
   ]
  },
  {
   "cell_type": "code",
   "execution_count": 65,
   "metadata": {},
   "outputs": [
    {
     "data": {
      "text/plain": [
       "Virat            False\n",
       "Dhoni             True\n",
       "Ronald           False\n",
       "David             True\n",
       "sunil chhetri     True\n",
       "Ajay             False\n",
       "Name: English, dtype: bool"
      ]
     },
     "execution_count": 65,
     "metadata": {},
     "output_type": "execute_result"
    }
   ],
   "source": [
    "marks.English.pipe(lambda x: x > 15)"
   ]
  },
  {
   "cell_type": "markdown",
   "metadata": {},
   "source": [
    "**pipe of length 2**"
   ]
  },
  {
   "cell_type": "code",
   "execution_count": 66,
   "metadata": {},
   "outputs": [
    {
     "data": {
      "text/plain": [
       "3"
      ]
     },
     "execution_count": 66,
     "metadata": {},
     "output_type": "execute_result"
    }
   ],
   "source": [
    "marks.English.pipe(lambda x: x > 15).pipe(lambda x: sum(x))"
   ]
  },
  {
   "cell_type": "markdown",
   "metadata": {},
   "source": [
    "### map [ pd.Series.map() ]\n",
    "\n",
    "* Parameters: function, dict, or Series\n",
    "* Result: Series.\n",
    "\n",
    "\n",
    "* pd.Series.map() maps values of series using input correspondence( which can be a functon,dict,series).<br/>"
   ]
  },
  {
   "cell_type": "markdown",
   "metadata": {},
   "source": [
    "Let's understand this with real scenario.\n",
    "\n",
    "**Case:**<br/>\n",
    "After declaring above marks English teacher noticed a wrong question in english paper.\n",
    "To rectify her mistake she decided to give extra 5 marks to all students who had taken english test.\n",
    "Now, she has to add 5 to each student on column English.\n",
    "(Assume that schools is using pandas library to analyze student records)"
   ]
  },
  {
   "cell_type": "markdown",
   "metadata": {},
   "source": [
    "** Solution:**<br/>\n",
    "We can solve above case using pandas map function.<br/>\n",
    "Check below code:"
   ]
  },
  {
   "cell_type": "markdown",
   "metadata": {},
   "source": [
    "**Map using custom function as an argument**"
   ]
  },
  {
   "cell_type": "code",
   "execution_count": 2,
   "metadata": {},
   "outputs": [
    {
     "data": {
      "text/html": [
       "<div>\n",
       "<style>\n",
       "    .dataframe thead tr:only-child th {\n",
       "        text-align: right;\n",
       "    }\n",
       "\n",
       "    .dataframe thead th {\n",
       "        text-align: left;\n",
       "    }\n",
       "\n",
       "    .dataframe tbody tr th {\n",
       "        vertical-align: top;\n",
       "    }\n",
       "</style>\n",
       "<table border=\"1\" class=\"dataframe\">\n",
       "  <thead>\n",
       "    <tr style=\"text-align: right;\">\n",
       "      <th></th>\n",
       "      <th>Maths</th>\n",
       "      <th>Science</th>\n",
       "      <th>Hindi</th>\n",
       "      <th>English</th>\n",
       "      <th>SST</th>\n",
       "    </tr>\n",
       "  </thead>\n",
       "  <tbody>\n",
       "    <tr>\n",
       "      <th>Virat</th>\n",
       "      <td>15.0</td>\n",
       "      <td>18.0</td>\n",
       "      <td>19.0</td>\n",
       "      <td>20.0</td>\n",
       "      <td>10.0</td>\n",
       "    </tr>\n",
       "    <tr>\n",
       "      <th>Dhoni</th>\n",
       "      <td>10.0</td>\n",
       "      <td>11.0</td>\n",
       "      <td>17.0</td>\n",
       "      <td>21.0</td>\n",
       "      <td>19.0</td>\n",
       "    </tr>\n",
       "    <tr>\n",
       "      <th>Ronald</th>\n",
       "      <td>12.0</td>\n",
       "      <td>14.0</td>\n",
       "      <td>15.0</td>\n",
       "      <td>17.0</td>\n",
       "      <td>14.0</td>\n",
       "    </tr>\n",
       "    <tr>\n",
       "      <th>David</th>\n",
       "      <td>12.0</td>\n",
       "      <td>14.0</td>\n",
       "      <td>17.0</td>\n",
       "      <td>22.0</td>\n",
       "      <td>19.0</td>\n",
       "    </tr>\n",
       "    <tr>\n",
       "      <th>sunil chhetri</th>\n",
       "      <td>11.0</td>\n",
       "      <td>17.0</td>\n",
       "      <td>10.0</td>\n",
       "      <td>21.0</td>\n",
       "      <td>19.0</td>\n",
       "    </tr>\n",
       "    <tr>\n",
       "      <th>Ajay</th>\n",
       "      <td>NaN</td>\n",
       "      <td>NaN</td>\n",
       "      <td>30.0</td>\n",
       "      <td>NaN</td>\n",
       "      <td>25.0</td>\n",
       "    </tr>\n",
       "  </tbody>\n",
       "</table>\n",
       "</div>"
      ],
      "text/plain": [
       "               Maths  Science  Hindi  English   SST\n",
       "Virat           15.0     18.0   19.0     20.0  10.0\n",
       "Dhoni           10.0     11.0   17.0     21.0  19.0\n",
       "Ronald          12.0     14.0   15.0     17.0  14.0\n",
       "David           12.0     14.0   17.0     22.0  19.0\n",
       "sunil chhetri   11.0     17.0   10.0     21.0  19.0\n",
       "Ajay             NaN      NaN   30.0      NaN  25.0"
      ]
     },
     "metadata": {},
     "output_type": "display_data"
    }
   ],
   "source": [
    "def fuction_addnum(x):\n",
    "    return x+5\n",
    "\n",
    "marks.English = marks.English.map(fuction_addnum)\n",
    "display(marks)"
   ]
  },
  {
   "cell_type": "markdown",
   "metadata": {},
   "source": [
    "* Here, map has taken each student mark on english,then mapped to other value(marks+5) using customized function named function_addnum."
   ]
  },
  {
   "cell_type": "markdown",
   "metadata": {},
   "source": [
    "We can also solve above case without creating custom function using lambda.<br/>\n",
    "Check below Example."
   ]
  },
  {
   "cell_type": "markdown",
   "metadata": {},
   "source": [
    "**Map using lambda function as argument**"
   ]
  },
  {
   "cell_type": "code",
   "execution_count": 90,
   "metadata": {},
   "outputs": [
    {
     "data": {
      "text/html": [
       "<div>\n",
       "<style>\n",
       "    .dataframe thead tr:only-child th {\n",
       "        text-align: right;\n",
       "    }\n",
       "\n",
       "    .dataframe thead th {\n",
       "        text-align: left;\n",
       "    }\n",
       "\n",
       "    .dataframe tbody tr th {\n",
       "        vertical-align: top;\n",
       "    }\n",
       "</style>\n",
       "<table border=\"1\" class=\"dataframe\">\n",
       "  <thead>\n",
       "    <tr style=\"text-align: right;\">\n",
       "      <th></th>\n",
       "      <th>Maths</th>\n",
       "      <th>Science</th>\n",
       "      <th>Hindi</th>\n",
       "      <th>English</th>\n",
       "      <th>SST</th>\n",
       "    </tr>\n",
       "  </thead>\n",
       "  <tbody>\n",
       "    <tr>\n",
       "      <th>Virat</th>\n",
       "      <td>15.0</td>\n",
       "      <td>18.0</td>\n",
       "      <td>19.0</td>\n",
       "      <td>20.0</td>\n",
       "      <td>10.0</td>\n",
       "    </tr>\n",
       "    <tr>\n",
       "      <th>Dhoni</th>\n",
       "      <td>10.0</td>\n",
       "      <td>11.0</td>\n",
       "      <td>17.0</td>\n",
       "      <td>21.0</td>\n",
       "      <td>19.0</td>\n",
       "    </tr>\n",
       "    <tr>\n",
       "      <th>Ronald</th>\n",
       "      <td>12.0</td>\n",
       "      <td>14.0</td>\n",
       "      <td>15.0</td>\n",
       "      <td>17.0</td>\n",
       "      <td>14.0</td>\n",
       "    </tr>\n",
       "    <tr>\n",
       "      <th>David</th>\n",
       "      <td>12.0</td>\n",
       "      <td>14.0</td>\n",
       "      <td>17.0</td>\n",
       "      <td>22.0</td>\n",
       "      <td>19.0</td>\n",
       "    </tr>\n",
       "    <tr>\n",
       "      <th>sunil chhetri</th>\n",
       "      <td>11.0</td>\n",
       "      <td>17.0</td>\n",
       "      <td>10.0</td>\n",
       "      <td>21.0</td>\n",
       "      <td>19.0</td>\n",
       "    </tr>\n",
       "    <tr>\n",
       "      <th>Ajay</th>\n",
       "      <td>NaN</td>\n",
       "      <td>NaN</td>\n",
       "      <td>30.0</td>\n",
       "      <td>NaN</td>\n",
       "      <td>25.0</td>\n",
       "    </tr>\n",
       "  </tbody>\n",
       "</table>\n",
       "</div>"
      ],
      "text/plain": [
       "               Maths  Science  Hindi  English   SST\n",
       "Virat           15.0     18.0   19.0     20.0  10.0\n",
       "Dhoni           10.0     11.0   17.0     21.0  19.0\n",
       "Ronald          12.0     14.0   15.0     17.0  14.0\n",
       "David           12.0     14.0   17.0     22.0  19.0\n",
       "sunil chhetri   11.0     17.0   10.0     21.0  19.0\n",
       "Ajay             NaN      NaN   30.0      NaN  25.0"
      ]
     },
     "metadata": {},
     "output_type": "display_data"
    }
   ],
   "source": [
    "marks.English = marks.English.map(lambda x: x+5)\n",
    "display(marks)\n"
   ]
  },
  {
   "cell_type": "markdown",
   "metadata": {},
   "source": [
    "* Optionally we can also pass na_action argument to map.<br/>\n",
    "* na_action parameter propagates NaN values without passing them to mapping function, If it configured  to 'ignore'"
   ]
  },
  {
   "cell_type": "markdown",
   "metadata": {},
   "source": [
    "**Missing values handling using na_action**"
   ]
  },
  {
   "cell_type": "code",
   "execution_count": 92,
   "metadata": {},
   "outputs": [
    {
     "data": {
      "text/html": [
       "<div>\n",
       "<style>\n",
       "    .dataframe thead tr:only-child th {\n",
       "        text-align: right;\n",
       "    }\n",
       "\n",
       "    .dataframe thead th {\n",
       "        text-align: left;\n",
       "    }\n",
       "\n",
       "    .dataframe tbody tr th {\n",
       "        vertical-align: top;\n",
       "    }\n",
       "</style>\n",
       "<table border=\"1\" class=\"dataframe\">\n",
       "  <thead>\n",
       "    <tr style=\"text-align: right;\">\n",
       "      <th></th>\n",
       "      <th>Maths</th>\n",
       "      <th>Science</th>\n",
       "      <th>Hindi</th>\n",
       "      <th>English</th>\n",
       "      <th>SST</th>\n",
       "    </tr>\n",
       "  </thead>\n",
       "  <tbody>\n",
       "    <tr>\n",
       "      <th>Virat</th>\n",
       "      <td>15.0</td>\n",
       "      <td>18.0</td>\n",
       "      <td>19.0</td>\n",
       "      <td>20.0</td>\n",
       "      <td>10.0</td>\n",
       "    </tr>\n",
       "    <tr>\n",
       "      <th>Dhoni</th>\n",
       "      <td>10.0</td>\n",
       "      <td>11.0</td>\n",
       "      <td>17.0</td>\n",
       "      <td>21.0</td>\n",
       "      <td>19.0</td>\n",
       "    </tr>\n",
       "    <tr>\n",
       "      <th>Ronald</th>\n",
       "      <td>12.0</td>\n",
       "      <td>14.0</td>\n",
       "      <td>15.0</td>\n",
       "      <td>17.0</td>\n",
       "      <td>14.0</td>\n",
       "    </tr>\n",
       "    <tr>\n",
       "      <th>David</th>\n",
       "      <td>12.0</td>\n",
       "      <td>14.0</td>\n",
       "      <td>17.0</td>\n",
       "      <td>22.0</td>\n",
       "      <td>19.0</td>\n",
       "    </tr>\n",
       "    <tr>\n",
       "      <th>sunil chhetri</th>\n",
       "      <td>11.0</td>\n",
       "      <td>17.0</td>\n",
       "      <td>10.0</td>\n",
       "      <td>21.0</td>\n",
       "      <td>19.0</td>\n",
       "    </tr>\n",
       "    <tr>\n",
       "      <th>Ajay</th>\n",
       "      <td>NaN</td>\n",
       "      <td>NaN</td>\n",
       "      <td>30.0</td>\n",
       "      <td>NaN</td>\n",
       "      <td>25.0</td>\n",
       "    </tr>\n",
       "  </tbody>\n",
       "</table>\n",
       "</div>"
      ],
      "text/plain": [
       "               Maths  Science  Hindi  English   SST\n",
       "Virat           15.0     18.0   19.0     20.0  10.0\n",
       "Dhoni           10.0     11.0   17.0     21.0  19.0\n",
       "Ronald          12.0     14.0   15.0     17.0  14.0\n",
       "David           12.0     14.0   17.0     22.0  19.0\n",
       "sunil chhetri   11.0     17.0   10.0     21.0  19.0\n",
       "Ajay             NaN      NaN   30.0      NaN  25.0"
      ]
     },
     "metadata": {},
     "output_type": "display_data"
    }
   ],
   "source": [
    "marks.English = marks.English.map(lambda x: x+5,na_action='ignore')\n",
    "display(marks)"
   ]
  },
  {
   "cell_type": "markdown",
   "metadata": {},
   "source": [
    "<br/>\n",
    "### apply [ pd.Seres.apply() & pd.DataFrame.apply() ]"
   ]
  },
  {
   "cell_type": "markdown",
   "metadata": {},
   "source": [
    "Parameters: function.<br/> \n",
    "Result: Modified Series/DataFrame.\n"
   ]
  },
  {
   "cell_type": "markdown",
   "metadata": {},
   "source": [
    "* Note that apply can be applied on both series and dataframe objects.<br/>\n",
    "* First see how it works with series data."
   ]
  },
  {
   "cell_type": "markdown",
   "metadata": {},
   "source": [
    "**apply on series:**\n",
    "\n",
    "* Invokes function on values of Series. \n",
    "* Function can be a NumPy function that applies to the entire Series or a Python function that only works on single values."
   ]
  },
  {
   "cell_type": "code",
   "execution_count": 98,
   "metadata": {},
   "outputs": [
    {
     "data": {
      "text/plain": [
       "Virat            15.0\n",
       "Dhoni            16.0\n",
       "Ronald           12.0\n",
       "David            17.0\n",
       "sunil chhetri    16.0\n",
       "Ajay              NaN\n",
       "Name: English, dtype: float64"
      ]
     },
     "execution_count": 98,
     "metadata": {},
     "output_type": "execute_result"
    }
   ],
   "source": [
    "marks.English"
   ]
  },
  {
   "cell_type": "markdown",
   "metadata": {},
   "source": [
    "* Above one is the data presented in series 'English'.<br/>\n",
    "* Case that we discussed earlier can also be solved by using apply method on English subject, check below code."
   ]
  },
  {
   "cell_type": "markdown",
   "metadata": {},
   "source": [
    "**Apply function using function name as argument**"
   ]
  },
  {
   "cell_type": "code",
   "execution_count": 95,
   "metadata": {},
   "outputs": [
    {
     "data": {
      "text/plain": [
       "Virat            20.0\n",
       "Dhoni            21.0\n",
       "Ronald           17.0\n",
       "David            22.0\n",
       "sunil chhetri    21.0\n",
       "Ajay              NaN\n",
       "Name: English, dtype: float64"
      ]
     },
     "execution_count": 95,
     "metadata": {},
     "output_type": "execute_result"
    }
   ],
   "source": [
    "marks.English = marks.English.apply(func=fuction_addnum)\n",
    "marks.English"
   ]
  },
  {
   "cell_type": "markdown",
   "metadata": {},
   "source": [
    "**case:**<br/>\n",
    "Newly joined teacher added marks of students in below format. But this format is not desirable and readable.<br/>\n",
    "How to solve this problem?"
   ]
  },
  {
   "cell_type": "code",
   "execution_count": 170,
   "metadata": {},
   "outputs": [
    {
     "data": {
      "text/html": [
       "<div>\n",
       "<style>\n",
       "    .dataframe thead tr:only-child th {\n",
       "        text-align: right;\n",
       "    }\n",
       "\n",
       "    .dataframe thead th {\n",
       "        text-align: left;\n",
       "    }\n",
       "\n",
       "    .dataframe tbody tr th {\n",
       "        vertical-align: top;\n",
       "    }\n",
       "</style>\n",
       "<table border=\"1\" class=\"dataframe\">\n",
       "  <thead>\n",
       "    <tr style=\"text-align: right;\">\n",
       "      <th></th>\n",
       "      <th>student_marks</th>\n",
       "    </tr>\n",
       "  </thead>\n",
       "  <tbody>\n",
       "    <tr>\n",
       "      <th>Virat</th>\n",
       "      <td>{'Maths': 15.0, 'Science': 18.0, 'Hindi': 19.0...</td>\n",
       "    </tr>\n",
       "    <tr>\n",
       "      <th>Dhoni</th>\n",
       "      <td>{'Maths': 10.0, 'Science': 11.0, 'Hindi': 17.0...</td>\n",
       "    </tr>\n",
       "    <tr>\n",
       "      <th>Ronald</th>\n",
       "      <td>{'Maths': 12.0, 'Science': 14.0, 'Hindi': 15.0...</td>\n",
       "    </tr>\n",
       "    <tr>\n",
       "      <th>David</th>\n",
       "      <td>{'Maths': 12.0, 'Science': 14.0, 'Hindi': 17.0...</td>\n",
       "    </tr>\n",
       "    <tr>\n",
       "      <th>Sunl Chhetri</th>\n",
       "      <td>{'Maths': 11.0, 'Science': 17.0, 'Hindi': 10.0...</td>\n",
       "    </tr>\n",
       "    <tr>\n",
       "      <th>Ajay</th>\n",
       "      <td>{'Maths': nan, 'Science': nan, 'Hindi': 30.0, ...</td>\n",
       "    </tr>\n",
       "  </tbody>\n",
       "</table>\n",
       "</div>"
      ],
      "text/plain": [
       "                                                  student_marks\n",
       "Virat         {'Maths': 15.0, 'Science': 18.0, 'Hindi': 19.0...\n",
       "Dhoni         {'Maths': 10.0, 'Science': 11.0, 'Hindi': 17.0...\n",
       "Ronald        {'Maths': 12.0, 'Science': 14.0, 'Hindi': 15.0...\n",
       "David         {'Maths': 12.0, 'Science': 14.0, 'Hindi': 17.0...\n",
       "Sunl Chhetri  {'Maths': 11.0, 'Science': 17.0, 'Hindi': 10.0...\n",
       "Ajay          {'Maths': nan, 'Science': nan, 'Hindi': 30.0, ..."
      ]
     },
     "metadata": {},
     "output_type": "display_data"
    }
   ],
   "source": [
    "marks = pd.DataFrame({'student_marks':[{'Maths':15.0,'Science':18.0,'Hindi':19.0,'English':15.0,'SST':10.0},\n",
    "                            {'Maths':10.0,'Science':11.0,'Hindi':17.0,'English':16.0,'SST':19.0},\n",
    "                           {'Maths':12.0,'Science':14.0,'Hindi':15.0,'English':12.0,'SST':14.0},\n",
    "                           {'Maths':12.0,'Science':14.0,'Hindi':17.0,'English':17.0,'SST':19.0},\n",
    "                           {'Maths':11.0,'Science':17.0,'Hindi':10.0,'English':16.0,'SST':19.0},\n",
    "                           {'Maths':np.nan,'Science':np.nan,'Hindi':30.0,'English':np.nan,'SST':25.0}]},\n",
    "                    index=['Virat','Dhoni','Ronald','David','Sunl Chhetri','Ajay'])\n",
    "display(marks)"
   ]
  },
  {
   "cell_type": "markdown",
   "metadata": {},
   "source": [
    "**solution:**"
   ]
  },
  {
   "cell_type": "markdown",
   "metadata": {},
   "source": [
    "**Apply function on series which having dictionary data**"
   ]
  },
  {
   "cell_type": "code",
   "execution_count": 111,
   "metadata": {},
   "outputs": [
    {
     "data": {
      "text/html": [
       "<div>\n",
       "<style>\n",
       "    .dataframe thead tr:only-child th {\n",
       "        text-align: right;\n",
       "    }\n",
       "\n",
       "    .dataframe thead th {\n",
       "        text-align: left;\n",
       "    }\n",
       "\n",
       "    .dataframe tbody tr th {\n",
       "        vertical-align: top;\n",
       "    }\n",
       "</style>\n",
       "<table border=\"1\" class=\"dataframe\">\n",
       "  <thead>\n",
       "    <tr style=\"text-align: right;\">\n",
       "      <th></th>\n",
       "      <th>Maths</th>\n",
       "      <th>Science</th>\n",
       "      <th>Hindi</th>\n",
       "      <th>English</th>\n",
       "      <th>SST</th>\n",
       "    </tr>\n",
       "  </thead>\n",
       "  <tbody>\n",
       "    <tr>\n",
       "      <th>Virat</th>\n",
       "      <td>15.0</td>\n",
       "      <td>18.0</td>\n",
       "      <td>19.0</td>\n",
       "      <td>15.0</td>\n",
       "      <td>10.0</td>\n",
       "    </tr>\n",
       "    <tr>\n",
       "      <th>Dhoni</th>\n",
       "      <td>10.0</td>\n",
       "      <td>11.0</td>\n",
       "      <td>17.0</td>\n",
       "      <td>16.0</td>\n",
       "      <td>19.0</td>\n",
       "    </tr>\n",
       "    <tr>\n",
       "      <th>Ronald</th>\n",
       "      <td>12.0</td>\n",
       "      <td>14.0</td>\n",
       "      <td>15.0</td>\n",
       "      <td>12.0</td>\n",
       "      <td>14.0</td>\n",
       "    </tr>\n",
       "    <tr>\n",
       "      <th>David</th>\n",
       "      <td>12.0</td>\n",
       "      <td>14.0</td>\n",
       "      <td>17.0</td>\n",
       "      <td>17.0</td>\n",
       "      <td>19.0</td>\n",
       "    </tr>\n",
       "    <tr>\n",
       "      <th>Sunl Chhetri</th>\n",
       "      <td>11.0</td>\n",
       "      <td>17.0</td>\n",
       "      <td>10.0</td>\n",
       "      <td>16.0</td>\n",
       "      <td>19.0</td>\n",
       "    </tr>\n",
       "    <tr>\n",
       "      <th>Ajay</th>\n",
       "      <td>NaN</td>\n",
       "      <td>NaN</td>\n",
       "      <td>30.0</td>\n",
       "      <td>NaN</td>\n",
       "      <td>25.0</td>\n",
       "    </tr>\n",
       "  </tbody>\n",
       "</table>\n",
       "</div>"
      ],
      "text/plain": [
       "              Maths  Science  Hindi  English   SST\n",
       "Virat          15.0     18.0   19.0     15.0  10.0\n",
       "Dhoni          10.0     11.0   17.0     16.0  19.0\n",
       "Ronald         12.0     14.0   15.0     12.0  14.0\n",
       "David          12.0     14.0   17.0     17.0  19.0\n",
       "Sunl Chhetri   11.0     17.0   10.0     16.0  19.0\n",
       "Ajay            NaN      NaN   30.0      NaN  25.0"
      ]
     },
     "metadata": {},
     "output_type": "display_data"
    }
   ],
   "source": [
    "marks['Maths'] = marks.student_marks.apply(lambda x:x['Maths'])\n",
    "marks['Science'] = marks.student_marks.apply(lambda x:x['Science'])\n",
    "marks['Hindi'] = marks.student_marks.apply(lambda x:x['Hindi'])\n",
    "marks['English'] = marks.student_marks.apply(lambda x:x['English'])\n",
    "marks['SST'] = marks.student_marks.apply(lambda x:x['SST'])\n",
    "marks.drop('student_marks',axis=1,inplace=True)\n",
    "display(marks)"
   ]
  },
  {
   "cell_type": "markdown",
   "metadata": {},
   "source": [
    "* From first line it has taken all elements mapped to key 'Maths' from dicts in column student_marks, and created a new column with name\"Maths\".<br/>\n",
    "* Similarly ,it created all other Series(Subjects) too."
   ]
  },
  {
   "cell_type": "markdown",
   "metadata": {},
   "source": [
    "* Above logic in less lines."
   ]
  },
  {
   "cell_type": "code",
   "execution_count": 171,
   "metadata": {},
   "outputs": [
    {
     "data": {
      "text/html": [
       "<div>\n",
       "<style>\n",
       "    .dataframe thead tr:only-child th {\n",
       "        text-align: right;\n",
       "    }\n",
       "\n",
       "    .dataframe thead th {\n",
       "        text-align: left;\n",
       "    }\n",
       "\n",
       "    .dataframe tbody tr th {\n",
       "        vertical-align: top;\n",
       "    }\n",
       "</style>\n",
       "<table border=\"1\" class=\"dataframe\">\n",
       "  <thead>\n",
       "    <tr style=\"text-align: right;\">\n",
       "      <th></th>\n",
       "      <th>Maths</th>\n",
       "      <th>Science</th>\n",
       "      <th>Hindi</th>\n",
       "      <th>English</th>\n",
       "      <th>SST</th>\n",
       "    </tr>\n",
       "  </thead>\n",
       "  <tbody>\n",
       "    <tr>\n",
       "      <th>Virat</th>\n",
       "      <td>15.0</td>\n",
       "      <td>18.0</td>\n",
       "      <td>19.0</td>\n",
       "      <td>15.0</td>\n",
       "      <td>10.0</td>\n",
       "    </tr>\n",
       "    <tr>\n",
       "      <th>Dhoni</th>\n",
       "      <td>10.0</td>\n",
       "      <td>11.0</td>\n",
       "      <td>17.0</td>\n",
       "      <td>16.0</td>\n",
       "      <td>19.0</td>\n",
       "    </tr>\n",
       "    <tr>\n",
       "      <th>Ronald</th>\n",
       "      <td>12.0</td>\n",
       "      <td>14.0</td>\n",
       "      <td>15.0</td>\n",
       "      <td>12.0</td>\n",
       "      <td>14.0</td>\n",
       "    </tr>\n",
       "    <tr>\n",
       "      <th>David</th>\n",
       "      <td>12.0</td>\n",
       "      <td>14.0</td>\n",
       "      <td>17.0</td>\n",
       "      <td>17.0</td>\n",
       "      <td>19.0</td>\n",
       "    </tr>\n",
       "    <tr>\n",
       "      <th>Sunl Chhetri</th>\n",
       "      <td>11.0</td>\n",
       "      <td>17.0</td>\n",
       "      <td>10.0</td>\n",
       "      <td>16.0</td>\n",
       "      <td>19.0</td>\n",
       "    </tr>\n",
       "    <tr>\n",
       "      <th>Ajay</th>\n",
       "      <td>NaN</td>\n",
       "      <td>NaN</td>\n",
       "      <td>30.0</td>\n",
       "      <td>NaN</td>\n",
       "      <td>25.0</td>\n",
       "    </tr>\n",
       "  </tbody>\n",
       "</table>\n",
       "</div>"
      ],
      "text/plain": [
       "              Maths  Science  Hindi  English   SST\n",
       "Virat          15.0     18.0   19.0     15.0  10.0\n",
       "Dhoni          10.0     11.0   17.0     16.0  19.0\n",
       "Ronald         12.0     14.0   15.0     12.0  14.0\n",
       "David          12.0     14.0   17.0     17.0  19.0\n",
       "Sunl Chhetri   11.0     17.0   10.0     16.0  19.0\n",
       "Ajay            NaN      NaN   30.0      NaN  25.0"
      ]
     },
     "metadata": {},
     "output_type": "display_data"
    }
   ],
   "source": [
    "keys = marks.student_marks[0].keys()\n",
    "for key in keys:\n",
    "    marks[''+key] = marks.student_marks.apply(lambda x: x[''+key])\n",
    "    \n",
    "marks.drop('student_marks',axis=1,inplace=True)\n",
    "display(marks)"
   ]
  },
  {
   "cell_type": "markdown",
   "metadata": {},
   "source": [
    "**case:**<br/>\n",
    "Students Internal marks are stored in below format. In which way all students can able to figure out their highest score subject wise  easily from internal marks."
   ]
  },
  {
   "cell_type": "code",
   "execution_count": 125,
   "metadata": {},
   "outputs": [
    {
     "data": {
      "text/html": [
       "<div>\n",
       "<style>\n",
       "    .dataframe thead tr:only-child th {\n",
       "        text-align: right;\n",
       "    }\n",
       "\n",
       "    .dataframe thead th {\n",
       "        text-align: left;\n",
       "    }\n",
       "\n",
       "    .dataframe tbody tr th {\n",
       "        vertical-align: top;\n",
       "    }\n",
       "</style>\n",
       "<table border=\"1\" class=\"dataframe\">\n",
       "  <thead>\n",
       "    <tr style=\"text-align: right;\">\n",
       "      <th></th>\n",
       "      <th>Maths</th>\n",
       "      <th>Science</th>\n",
       "      <th>Hindi</th>\n",
       "      <th>English</th>\n",
       "      <th>SST</th>\n",
       "    </tr>\n",
       "  </thead>\n",
       "  <tbody>\n",
       "    <tr>\n",
       "      <th>Virat</th>\n",
       "      <td>[5, 6, 4]</td>\n",
       "      <td>[6, 6, 6]</td>\n",
       "      <td>[5, 5, 9]</td>\n",
       "      <td>[5, 5, 5]</td>\n",
       "      <td>[2, 3, 5]</td>\n",
       "    </tr>\n",
       "    <tr>\n",
       "      <th>Dhoni</th>\n",
       "      <td>[5, 2, 3]</td>\n",
       "      <td>[5, 3, 3]</td>\n",
       "      <td>[5, 2, 10]</td>\n",
       "      <td>[3, 7, 6]</td>\n",
       "      <td>[10, 5, 4]</td>\n",
       "    </tr>\n",
       "    <tr>\n",
       "      <th>Ronald</th>\n",
       "      <td>[6, 4, 2]</td>\n",
       "      <td>[7, 4, 3]</td>\n",
       "      <td>[5, 5, 5]</td>\n",
       "      <td>[4, 2, 6]</td>\n",
       "      <td>[7, 4, 3]</td>\n",
       "    </tr>\n",
       "    <tr>\n",
       "      <th>David</th>\n",
       "      <td>[5, 5, 2]</td>\n",
       "      <td>[7, 4, 3]</td>\n",
       "      <td>[6, 6, 5]</td>\n",
       "      <td>[3, 7, 7]</td>\n",
       "      <td>[5, 5, 9]</td>\n",
       "    </tr>\n",
       "    <tr>\n",
       "      <th>Sunl Chhetri</th>\n",
       "      <td>[5, 5, 1]</td>\n",
       "      <td>[8, 5, 4]</td>\n",
       "      <td>[3, 3, 4]</td>\n",
       "      <td>[4, 8, 4]</td>\n",
       "      <td>[5, 6, 8]</td>\n",
       "    </tr>\n",
       "    <tr>\n",
       "      <th>Ajay</th>\n",
       "      <td>[nan, nan]</td>\n",
       "      <td>[nan, nan, nan]</td>\n",
       "      <td>[10, 10, 10]</td>\n",
       "      <td>[nan, nan, nan]</td>\n",
       "      <td>[10, 10, 5]</td>\n",
       "    </tr>\n",
       "  </tbody>\n",
       "</table>\n",
       "</div>"
      ],
      "text/plain": [
       "                   Maths          Science         Hindi          English  \\\n",
       "Virat          [5, 6, 4]        [6, 6, 6]     [5, 5, 9]        [5, 5, 5]   \n",
       "Dhoni          [5, 2, 3]        [5, 3, 3]    [5, 2, 10]        [3, 7, 6]   \n",
       "Ronald         [6, 4, 2]        [7, 4, 3]     [5, 5, 5]        [4, 2, 6]   \n",
       "David          [5, 5, 2]        [7, 4, 3]     [6, 6, 5]        [3, 7, 7]   \n",
       "Sunl Chhetri   [5, 5, 1]        [8, 5, 4]     [3, 3, 4]        [4, 8, 4]   \n",
       "Ajay          [nan, nan]  [nan, nan, nan]  [10, 10, 10]  [nan, nan, nan]   \n",
       "\n",
       "                      SST  \n",
       "Virat           [2, 3, 5]  \n",
       "Dhoni          [10, 5, 4]  \n",
       "Ronald          [7, 4, 3]  \n",
       "David           [5, 5, 9]  \n",
       "Sunl Chhetri    [5, 6, 8]  \n",
       "Ajay          [10, 10, 5]  "
      ]
     },
     "metadata": {},
     "output_type": "display_data"
    }
   ],
   "source": [
    "internal_marks = pd.DataFrame({'Maths':[[5,6,4],[5,2,3],[6,4,2],[5,5,2],[5,5,1],[np.nan,np.nan]],\n",
    "                   'Science':[[6,6,6],[5,3,3],[7,4,3],[7,4,3],[8,5,4],[np.nan,np.nan,np.nan]],\n",
    "                    'Hindi':[[5,5,9],[5,2,10],[5,5,5],[6,6,5],[3,3,4],[10,10,10]],\n",
    "                  'English':[[5,5,5],[3,7,6],[4,2,6],[3,7,7],[4,8,4],[np.nan,np.nan,np.nan]],\n",
    "                  'SST':[[2,3,5],[10,5,4],[7,4,3],[5,5,9],[5,6,8],[10,10,5]]},\n",
    "                  index=['Virat','Dhoni','Ronald','David','Sunl Chhetri','Ajay'],\n",
    "                             columns=['Maths','Science','Hindi','English','SST'])\n",
    "display(internal_marks)"
   ]
  },
  {
   "cell_type": "markdown",
   "metadata": {},
   "source": [
    "**solution:**"
   ]
  },
  {
   "cell_type": "markdown",
   "metadata": {},
   "source": [
    "**Apply method on series containg list of list data**"
   ]
  },
  {
   "cell_type": "code",
   "execution_count": 123,
   "metadata": {},
   "outputs": [
    {
     "data": {
      "text/html": [
       "<div>\n",
       "<style>\n",
       "    .dataframe thead tr:only-child th {\n",
       "        text-align: right;\n",
       "    }\n",
       "\n",
       "    .dataframe thead th {\n",
       "        text-align: left;\n",
       "    }\n",
       "\n",
       "    .dataframe tbody tr th {\n",
       "        vertical-align: top;\n",
       "    }\n",
       "</style>\n",
       "<table border=\"1\" class=\"dataframe\">\n",
       "  <thead>\n",
       "    <tr style=\"text-align: right;\">\n",
       "      <th></th>\n",
       "      <th>Maths</th>\n",
       "      <th>Science</th>\n",
       "      <th>Hindi</th>\n",
       "      <th>English</th>\n",
       "      <th>SST</th>\n",
       "      <th>Max_Maths</th>\n",
       "      <th>Max_Science</th>\n",
       "      <th>Max_Hindi</th>\n",
       "      <th>Max_English</th>\n",
       "      <th>Max_SST</th>\n",
       "    </tr>\n",
       "  </thead>\n",
       "  <tbody>\n",
       "    <tr>\n",
       "      <th>Virat</th>\n",
       "      <td>[5, 6, 4]</td>\n",
       "      <td>[6, 6, 6]</td>\n",
       "      <td>[5, 5, 9]</td>\n",
       "      <td>[5, 5, 5]</td>\n",
       "      <td>[2, 3, 5]</td>\n",
       "      <td>6.0</td>\n",
       "      <td>6.0</td>\n",
       "      <td>9</td>\n",
       "      <td>5.0</td>\n",
       "      <td>5</td>\n",
       "    </tr>\n",
       "    <tr>\n",
       "      <th>Dhoni</th>\n",
       "      <td>[5, 2, 3]</td>\n",
       "      <td>[5, 3, 3]</td>\n",
       "      <td>[5, 2, 10]</td>\n",
       "      <td>[3, 7, 6]</td>\n",
       "      <td>[10, 5, 4]</td>\n",
       "      <td>5.0</td>\n",
       "      <td>5.0</td>\n",
       "      <td>10</td>\n",
       "      <td>7.0</td>\n",
       "      <td>10</td>\n",
       "    </tr>\n",
       "    <tr>\n",
       "      <th>Ronald</th>\n",
       "      <td>[6, 4, 2]</td>\n",
       "      <td>[7, 4, 3]</td>\n",
       "      <td>[5, 5, 5]</td>\n",
       "      <td>[4, 2, 6]</td>\n",
       "      <td>[7, 4, 3]</td>\n",
       "      <td>6.0</td>\n",
       "      <td>7.0</td>\n",
       "      <td>5</td>\n",
       "      <td>6.0</td>\n",
       "      <td>7</td>\n",
       "    </tr>\n",
       "    <tr>\n",
       "      <th>David</th>\n",
       "      <td>[5, 5, 2]</td>\n",
       "      <td>[7, 4, 3]</td>\n",
       "      <td>[6, 6, 5]</td>\n",
       "      <td>[3, 7, 7]</td>\n",
       "      <td>[5, 5, 9]</td>\n",
       "      <td>5.0</td>\n",
       "      <td>7.0</td>\n",
       "      <td>6</td>\n",
       "      <td>7.0</td>\n",
       "      <td>9</td>\n",
       "    </tr>\n",
       "    <tr>\n",
       "      <th>Sunl Chhetri</th>\n",
       "      <td>[5, 5, 1]</td>\n",
       "      <td>[8, 5, 4]</td>\n",
       "      <td>[3, 3, 4]</td>\n",
       "      <td>[4, 8, 4]</td>\n",
       "      <td>[5, 6, 8]</td>\n",
       "      <td>5.0</td>\n",
       "      <td>8.0</td>\n",
       "      <td>4</td>\n",
       "      <td>8.0</td>\n",
       "      <td>8</td>\n",
       "    </tr>\n",
       "    <tr>\n",
       "      <th>Ajay</th>\n",
       "      <td>[nan, nan]</td>\n",
       "      <td>[nan, nan, nan]</td>\n",
       "      <td>[10, 10, 10]</td>\n",
       "      <td>[nan, nan, nan]</td>\n",
       "      <td>[10, 10, 5]</td>\n",
       "      <td>NaN</td>\n",
       "      <td>NaN</td>\n",
       "      <td>10</td>\n",
       "      <td>NaN</td>\n",
       "      <td>10</td>\n",
       "    </tr>\n",
       "  </tbody>\n",
       "</table>\n",
       "</div>"
      ],
      "text/plain": [
       "                   Maths          Science         Hindi          English  \\\n",
       "Virat          [5, 6, 4]        [6, 6, 6]     [5, 5, 9]        [5, 5, 5]   \n",
       "Dhoni          [5, 2, 3]        [5, 3, 3]    [5, 2, 10]        [3, 7, 6]   \n",
       "Ronald         [6, 4, 2]        [7, 4, 3]     [5, 5, 5]        [4, 2, 6]   \n",
       "David          [5, 5, 2]        [7, 4, 3]     [6, 6, 5]        [3, 7, 7]   \n",
       "Sunl Chhetri   [5, 5, 1]        [8, 5, 4]     [3, 3, 4]        [4, 8, 4]   \n",
       "Ajay          [nan, nan]  [nan, nan, nan]  [10, 10, 10]  [nan, nan, nan]   \n",
       "\n",
       "                      SST  Max_Maths  Max_Science  Max_Hindi  Max_English  \\\n",
       "Virat           [2, 3, 5]        6.0          6.0          9          5.0   \n",
       "Dhoni          [10, 5, 4]        5.0          5.0         10          7.0   \n",
       "Ronald          [7, 4, 3]        6.0          7.0          5          6.0   \n",
       "David           [5, 5, 9]        5.0          7.0          6          7.0   \n",
       "Sunl Chhetri    [5, 6, 8]        5.0          8.0          4          8.0   \n",
       "Ajay          [10, 10, 5]        NaN          NaN         10          NaN   \n",
       "\n",
       "              Max_SST  \n",
       "Virat               5  \n",
       "Dhoni              10  \n",
       "Ronald              7  \n",
       "David               9  \n",
       "Sunl Chhetri        8  \n",
       "Ajay               10  "
      ]
     },
     "metadata": {},
     "output_type": "display_data"
    }
   ],
   "source": [
    "def maxmarks(subject_marks):\n",
    "    return np.max(subject_marks)\n",
    "\n",
    "internal_marks['Max_Maths'] = internal_marks.Maths.apply(maxmarks)\n",
    "internal_marks['Max_Science'] = internal_marks.Science.apply(maxmarks)\n",
    "internal_marks['Max_Hindi'] = internal_marks.Hindi.apply(maxmarks)\n",
    "internal_marks['Max_English'] = internal_marks.English.apply(maxmarks)\n",
    "internal_marks['Max_SST'] = internal_marks.SST.apply(maxmarks)\n",
    "display(internal_marks)"
   ]
  },
  {
   "cell_type": "markdown",
   "metadata": {},
   "source": [
    "* Above case can also solve using below code(reduced form of above logic)"
   ]
  },
  {
   "cell_type": "code",
   "execution_count": 145,
   "metadata": {},
   "outputs": [
    {
     "data": {
      "text/html": [
       "<div>\n",
       "<style>\n",
       "    .dataframe thead tr:only-child th {\n",
       "        text-align: right;\n",
       "    }\n",
       "\n",
       "    .dataframe thead th {\n",
       "        text-align: left;\n",
       "    }\n",
       "\n",
       "    .dataframe tbody tr th {\n",
       "        vertical-align: top;\n",
       "    }\n",
       "</style>\n",
       "<table border=\"1\" class=\"dataframe\">\n",
       "  <thead>\n",
       "    <tr style=\"text-align: right;\">\n",
       "      <th></th>\n",
       "      <th>Maths</th>\n",
       "      <th>Science</th>\n",
       "      <th>Hindi</th>\n",
       "      <th>English</th>\n",
       "      <th>SST</th>\n",
       "      <th>Max_Maths</th>\n",
       "      <th>Max_Science</th>\n",
       "      <th>Max_Hindi</th>\n",
       "      <th>Max_English</th>\n",
       "      <th>Max_SST</th>\n",
       "    </tr>\n",
       "  </thead>\n",
       "  <tbody>\n",
       "    <tr>\n",
       "      <th>Virat</th>\n",
       "      <td>[5, 6, 4]</td>\n",
       "      <td>[6, 6, 6]</td>\n",
       "      <td>[5, 5, 9]</td>\n",
       "      <td>[5, 5, 5]</td>\n",
       "      <td>[2, 3, 5]</td>\n",
       "      <td>6.0</td>\n",
       "      <td>6.0</td>\n",
       "      <td>9</td>\n",
       "      <td>5.0</td>\n",
       "      <td>5</td>\n",
       "    </tr>\n",
       "    <tr>\n",
       "      <th>Dhoni</th>\n",
       "      <td>[5, 2, 3]</td>\n",
       "      <td>[5, 3, 3]</td>\n",
       "      <td>[5, 2, 10]</td>\n",
       "      <td>[3, 7, 6]</td>\n",
       "      <td>[10, 5, 4]</td>\n",
       "      <td>5.0</td>\n",
       "      <td>5.0</td>\n",
       "      <td>10</td>\n",
       "      <td>7.0</td>\n",
       "      <td>10</td>\n",
       "    </tr>\n",
       "    <tr>\n",
       "      <th>Ronald</th>\n",
       "      <td>[6, 4, 2]</td>\n",
       "      <td>[7, 4, 3]</td>\n",
       "      <td>[5, 5, 5]</td>\n",
       "      <td>[4, 2, 6]</td>\n",
       "      <td>[7, 4, 3]</td>\n",
       "      <td>6.0</td>\n",
       "      <td>7.0</td>\n",
       "      <td>5</td>\n",
       "      <td>6.0</td>\n",
       "      <td>7</td>\n",
       "    </tr>\n",
       "    <tr>\n",
       "      <th>David</th>\n",
       "      <td>[5, 5, 2]</td>\n",
       "      <td>[7, 4, 3]</td>\n",
       "      <td>[6, 6, 5]</td>\n",
       "      <td>[3, 7, 7]</td>\n",
       "      <td>[5, 5, 9]</td>\n",
       "      <td>5.0</td>\n",
       "      <td>7.0</td>\n",
       "      <td>6</td>\n",
       "      <td>7.0</td>\n",
       "      <td>9</td>\n",
       "    </tr>\n",
       "    <tr>\n",
       "      <th>Sunl Chhetri</th>\n",
       "      <td>[5, 5, 1]</td>\n",
       "      <td>[8, 5, 4]</td>\n",
       "      <td>[3, 3, 4]</td>\n",
       "      <td>[4, 8, 4]</td>\n",
       "      <td>[5, 6, 8]</td>\n",
       "      <td>5.0</td>\n",
       "      <td>8.0</td>\n",
       "      <td>4</td>\n",
       "      <td>8.0</td>\n",
       "      <td>8</td>\n",
       "    </tr>\n",
       "    <tr>\n",
       "      <th>Ajay</th>\n",
       "      <td>[nan, nan]</td>\n",
       "      <td>[nan, nan, nan]</td>\n",
       "      <td>[10, 10, 10]</td>\n",
       "      <td>[nan, nan, nan]</td>\n",
       "      <td>[10, 10, 5]</td>\n",
       "      <td>NaN</td>\n",
       "      <td>NaN</td>\n",
       "      <td>10</td>\n",
       "      <td>NaN</td>\n",
       "      <td>10</td>\n",
       "    </tr>\n",
       "  </tbody>\n",
       "</table>\n",
       "</div>"
      ],
      "text/plain": [
       "                   Maths          Science         Hindi          English  \\\n",
       "Virat          [5, 6, 4]        [6, 6, 6]     [5, 5, 9]        [5, 5, 5]   \n",
       "Dhoni          [5, 2, 3]        [5, 3, 3]    [5, 2, 10]        [3, 7, 6]   \n",
       "Ronald         [6, 4, 2]        [7, 4, 3]     [5, 5, 5]        [4, 2, 6]   \n",
       "David          [5, 5, 2]        [7, 4, 3]     [6, 6, 5]        [3, 7, 7]   \n",
       "Sunl Chhetri   [5, 5, 1]        [8, 5, 4]     [3, 3, 4]        [4, 8, 4]   \n",
       "Ajay          [nan, nan]  [nan, nan, nan]  [10, 10, 10]  [nan, nan, nan]   \n",
       "\n",
       "                      SST  Max_Maths  Max_Science  Max_Hindi  Max_English  \\\n",
       "Virat           [2, 3, 5]        6.0          6.0          9          5.0   \n",
       "Dhoni          [10, 5, 4]        5.0          5.0         10          7.0   \n",
       "Ronald          [7, 4, 3]        6.0          7.0          5          6.0   \n",
       "David           [5, 5, 9]        5.0          7.0          6          7.0   \n",
       "Sunl Chhetri    [5, 6, 8]        5.0          8.0          4          8.0   \n",
       "Ajay          [10, 10, 5]        NaN          NaN         10          NaN   \n",
       "\n",
       "              Max_SST  \n",
       "Virat               5  \n",
       "Dhoni              10  \n",
       "Ronald              7  \n",
       "David               9  \n",
       "Sunl Chhetri        8  \n",
       "Ajay               10  "
      ]
     },
     "metadata": {},
     "output_type": "display_data"
    }
   ],
   "source": [
    "cols = internal_marks.columns.tolist()\n",
    "for label in cols :\n",
    "    new_column = 'Max_'+label\n",
    "    internal_marks[''+new_column] = internal_marks[''+label].apply(maxmarks)\n",
    "display(internal_marks)  "
   ]
  },
  {
   "cell_type": "markdown",
   "metadata": {},
   "source": [
    "<br/>\n",
    "**apply on dataframe:**"
   ]
  },
  {
   "cell_type": "markdown",
   "metadata": {},
   "source": [
    "* Parameters: function.\n",
    "* Result: Series or DataFrame<br/>\n",
    "\n",
    "\n",
    "* apply on dataframe applies function along the input axis of DataFrame.<br/>\n",
    "* Here, Objects passed to functions are Series objects having index either the DataFrame’s index (axis=0) or the columns (axis=1).<br/>"
   ]
  },
  {
   "cell_type": "markdown",
   "metadata": {},
   "source": [
    "**case**<br/>\n",
    "Head master  asked to add 5 marks to all the students for all the subjects if he/she had appeared for the exam."
   ]
  },
  {
   "cell_type": "markdown",
   "metadata": {},
   "source": [
    "**solution:**"
   ]
  },
  {
   "cell_type": "markdown",
   "metadata": {},
   "source": [
    "**Apply function on dataframe when function name passed as argument**"
   ]
  },
  {
   "cell_type": "code",
   "execution_count": 173,
   "metadata": {},
   "outputs": [
    {
     "data": {
      "text/html": [
       "<div>\n",
       "<style>\n",
       "    .dataframe thead tr:only-child th {\n",
       "        text-align: right;\n",
       "    }\n",
       "\n",
       "    .dataframe thead th {\n",
       "        text-align: left;\n",
       "    }\n",
       "\n",
       "    .dataframe tbody tr th {\n",
       "        vertical-align: top;\n",
       "    }\n",
       "</style>\n",
       "<table border=\"1\" class=\"dataframe\">\n",
       "  <thead>\n",
       "    <tr style=\"text-align: right;\">\n",
       "      <th></th>\n",
       "      <th>Maths</th>\n",
       "      <th>Science</th>\n",
       "      <th>Hindi</th>\n",
       "      <th>English</th>\n",
       "      <th>SST</th>\n",
       "    </tr>\n",
       "  </thead>\n",
       "  <tbody>\n",
       "    <tr>\n",
       "      <th>Virat</th>\n",
       "      <td>20.0</td>\n",
       "      <td>23.0</td>\n",
       "      <td>24.0</td>\n",
       "      <td>20.0</td>\n",
       "      <td>15.0</td>\n",
       "    </tr>\n",
       "    <tr>\n",
       "      <th>Dhoni</th>\n",
       "      <td>15.0</td>\n",
       "      <td>16.0</td>\n",
       "      <td>22.0</td>\n",
       "      <td>21.0</td>\n",
       "      <td>24.0</td>\n",
       "    </tr>\n",
       "    <tr>\n",
       "      <th>Ronald</th>\n",
       "      <td>17.0</td>\n",
       "      <td>19.0</td>\n",
       "      <td>20.0</td>\n",
       "      <td>17.0</td>\n",
       "      <td>19.0</td>\n",
       "    </tr>\n",
       "    <tr>\n",
       "      <th>David</th>\n",
       "      <td>17.0</td>\n",
       "      <td>19.0</td>\n",
       "      <td>22.0</td>\n",
       "      <td>22.0</td>\n",
       "      <td>24.0</td>\n",
       "    </tr>\n",
       "    <tr>\n",
       "      <th>sunil chhetri</th>\n",
       "      <td>16.0</td>\n",
       "      <td>22.0</td>\n",
       "      <td>15.0</td>\n",
       "      <td>21.0</td>\n",
       "      <td>24.0</td>\n",
       "    </tr>\n",
       "    <tr>\n",
       "      <th>Ajay</th>\n",
       "      <td>NaN</td>\n",
       "      <td>NaN</td>\n",
       "      <td>35.0</td>\n",
       "      <td>NaN</td>\n",
       "      <td>30.0</td>\n",
       "    </tr>\n",
       "  </tbody>\n",
       "</table>\n",
       "</div>"
      ],
      "text/plain": [
       "               Maths  Science  Hindi  English   SST\n",
       "Virat           20.0     23.0   24.0     20.0  15.0\n",
       "Dhoni           15.0     16.0   22.0     21.0  24.0\n",
       "Ronald          17.0     19.0   20.0     17.0  19.0\n",
       "David           17.0     19.0   22.0     22.0  24.0\n",
       "sunil chhetri   16.0     22.0   15.0     21.0  24.0\n",
       "Ajay             NaN      NaN   35.0      NaN  30.0"
      ]
     },
     "execution_count": 173,
     "metadata": {},
     "output_type": "execute_result"
    }
   ],
   "source": [
    "marks.apply(func=fuction_addnum)"
   ]
  },
  {
   "cell_type": "markdown",
   "metadata": {},
   "source": [
    "* We can see that above code has added value 5 to all elements along the axis = 0(default axis).<br/> "
   ]
  },
  {
   "cell_type": "markdown",
   "metadata": {},
   "source": [
    "**case**<br/>\n",
    "Head master asked to find the average marks of each subject"
   ]
  },
  {
   "cell_type": "markdown",
   "metadata": {},
   "source": [
    "**solution**"
   ]
  },
  {
   "cell_type": "markdown",
   "metadata": {},
   "source": [
    "**Apply on dataframe object when lambda function passed as argument**"
   ]
  },
  {
   "cell_type": "code",
   "execution_count": 53,
   "metadata": {},
   "outputs": [
    {
     "data": {
      "text/plain": [
       "Maths      22.000000\n",
       "Science    14.800000\n",
       "Hindi      18.000000\n",
       "English    35.200000\n",
       "SST        17.666667\n",
       "dtype: float64"
      ]
     },
     "execution_count": 53,
     "metadata": {},
     "output_type": "execute_result"
    }
   ],
   "source": [
    "marks.apply(lambda x: np.mean(x))"
   ]
  },
  {
   "cell_type": "markdown",
   "metadata": {},
   "source": [
    "**case**<br/>\n",
    "If teachers wants to find the total score and average score of each student."
   ]
  },
  {
   "cell_type": "markdown",
   "metadata": {},
   "source": [
    "**solution**"
   ]
  },
  {
   "cell_type": "markdown",
   "metadata": {},
   "source": [
    "Below example finds the mean of each row (axis=1) using np.mean"
   ]
  },
  {
   "cell_type": "markdown",
   "metadata": {},
   "source": [
    "**Passing axis information to apply method**"
   ]
  },
  {
   "cell_type": "code",
   "execution_count": 3,
   "metadata": {},
   "outputs": [
    {
     "data": {
      "text/plain": [
       "Virat            82.0\n",
       "Dhoni            78.0\n",
       "Ronald           72.0\n",
       "David            84.0\n",
       "sunil chhetri    78.0\n",
       "Ajay             55.0\n",
       "dtype: float64"
      ]
     },
     "execution_count": 3,
     "metadata": {},
     "output_type": "execute_result"
    }
   ],
   "source": [
    "marks.apply(lambda x: np.sum(x), axis=1)"
   ]
  },
  {
   "cell_type": "code",
   "execution_count": 58,
   "metadata": {},
   "outputs": [
    {
     "data": {
      "text/plain": [
       "Virat            21.4\n",
       "Dhoni            20.6\n",
       "Ronald           19.4\n",
       "David            21.8\n",
       "sunil chhetri    20.6\n",
       "Ajay             27.5\n",
       "dtype: float64"
      ]
     },
     "execution_count": 58,
     "metadata": {},
     "output_type": "execute_result"
    }
   ],
   "source": [
    "marks.apply(lambda x: np.mean(x), axis=1)"
   ]
  },
  {
   "cell_type": "markdown",
   "metadata": {},
   "source": [
    "<br/>\n",
    "### applymap [ pd.DataFrame.applymap() ]\n",
    "* Parameters: function\n",
    "* Result: DataFrame\n",
    "\n",
    "\n",
    "* Applies function to a Dataframe elementwise,i.e. like doing map(func, series) for each series in the DataFrame"
   ]
  },
  {
   "cell_type": "markdown",
   "metadata": {},
   "source": [
    "**Applymap method on dataframe**"
   ]
  },
  {
   "cell_type": "markdown",
   "metadata": {},
   "source": [
    "**case**<br/>\n",
    "\n",
    "Teacher has to generate the student status report((fail/pass)) for each subject."
   ]
  },
  {
   "cell_type": "markdown",
   "metadata": {},
   "source": [
    "**solution**"
   ]
  },
  {
   "cell_type": "code",
   "execution_count": 177,
   "metadata": {},
   "outputs": [
    {
     "data": {
      "text/html": [
       "<div>\n",
       "<style>\n",
       "    .dataframe thead tr:only-child th {\n",
       "        text-align: right;\n",
       "    }\n",
       "\n",
       "    .dataframe thead th {\n",
       "        text-align: left;\n",
       "    }\n",
       "\n",
       "    .dataframe tbody tr th {\n",
       "        vertical-align: top;\n",
       "    }\n",
       "</style>\n",
       "<table border=\"1\" class=\"dataframe\">\n",
       "  <thead>\n",
       "    <tr style=\"text-align: right;\">\n",
       "      <th></th>\n",
       "      <th>Maths</th>\n",
       "      <th>Science</th>\n",
       "      <th>Hindi</th>\n",
       "      <th>English</th>\n",
       "      <th>SST</th>\n",
       "    </tr>\n",
       "  </thead>\n",
       "  <tbody>\n",
       "    <tr>\n",
       "      <th>Virat</th>\n",
       "      <td>Pass</td>\n",
       "      <td>Pass</td>\n",
       "      <td>Pass</td>\n",
       "      <td>Pass</td>\n",
       "      <td>Fail</td>\n",
       "    </tr>\n",
       "    <tr>\n",
       "      <th>Dhoni</th>\n",
       "      <td>Fail</td>\n",
       "      <td>Fail</td>\n",
       "      <td>Pass</td>\n",
       "      <td>Pass</td>\n",
       "      <td>Pass</td>\n",
       "    </tr>\n",
       "    <tr>\n",
       "      <th>Ronald</th>\n",
       "      <td>Fail</td>\n",
       "      <td>Fail</td>\n",
       "      <td>Pass</td>\n",
       "      <td>Fail</td>\n",
       "      <td>Fail</td>\n",
       "    </tr>\n",
       "    <tr>\n",
       "      <th>David</th>\n",
       "      <td>Fail</td>\n",
       "      <td>Fail</td>\n",
       "      <td>Pass</td>\n",
       "      <td>Pass</td>\n",
       "      <td>Pass</td>\n",
       "    </tr>\n",
       "    <tr>\n",
       "      <th>sunil chhetri</th>\n",
       "      <td>Fail</td>\n",
       "      <td>Pass</td>\n",
       "      <td>Fail</td>\n",
       "      <td>Pass</td>\n",
       "      <td>Pass</td>\n",
       "    </tr>\n",
       "    <tr>\n",
       "      <th>Ajay</th>\n",
       "      <td>Pass</td>\n",
       "      <td>Pass</td>\n",
       "      <td>Pass</td>\n",
       "      <td>Pass</td>\n",
       "      <td>Pass</td>\n",
       "    </tr>\n",
       "  </tbody>\n",
       "</table>\n",
       "</div>"
      ],
      "text/plain": [
       "              Maths Science Hindi English   SST\n",
       "Virat          Pass    Pass  Pass    Pass  Fail\n",
       "Dhoni          Fail    Fail  Pass    Pass  Pass\n",
       "Ronald         Fail    Fail  Pass    Fail  Fail\n",
       "David          Fail    Fail  Pass    Pass  Pass\n",
       "sunil chhetri  Fail    Pass  Fail    Pass  Pass\n",
       "Ajay           Pass    Pass  Pass    Pass  Pass"
      ]
     },
     "execution_count": 177,
     "metadata": {},
     "output_type": "execute_result"
    }
   ],
   "source": [
    "marks.applymap(lambda x: 'Fail' if x < 15 else 'Pass')"
   ]
  },
  {
   "cell_type": "markdown",
   "metadata": {},
   "source": [
    "* Note : Above example has taken all the elements in dataframe elementwise, and applied function on each element(irrespective of axis)."
   ]
  },
  {
   "cell_type": "markdown",
   "metadata": {},
   "source": [
    "<br/>\n",
    "### groupby [ pd.Series.groupby() & pd.DataFrame.groupby() ]:"
   ]
  },
  {
   "cell_type": "markdown",
   "metadata": {},
   "source": [
    "* Parameters: mapping, function, str, or iterable\n",
    "* Result GroupBy object\n",
    "\n",
    "By “group by” we are referring to a process involving one or more of the following steps<br>\n",
    "\n",
    "* **Splitting:** the data into groups based on some criteria<br/>\n",
    "* **Applying:** a function to each group independently<br/>\n",
    "* **Combining:** the results into a data structure<br/>\n",
    "\n",
    "Of these, the split step is the most straightforward. In fact, in many situations you may wish to split the data set into groups and do something with those groups yourself. In the apply step, we might wish to one of the following:\n",
    "\n",
    "* **Aggregation:** computing a summary statistic (or statistics) about each group. Some examples:\n",
    "\n",
    "Compute group sums or means<br/>\n",
    "Compute group sizes / counts<br/>\n",
    "* **Transformation:** perform some group-specific computations and return a like-indexed. Some examples:<br/>\n",
    "\n",
    "Standardizing data (zscore) within group<br/>\n",
    "Filling NAs within groups with a value derived from each group<br/>\n",
    "* **Filtration:** discard some groups, according to a group-wise computation that evaluates True or False. Some examples:<br/>\n",
    "\n",
    "Discarding data that belongs to groups with only a few members<br/>\n",
    "Filtering out data based on the group sum or mean\n",
    "\n",
    "* Some combination of the above: GroupBy will examine the results of the apply step and try to return a sensibly combined result if it doesn’t fit into either of the above two categories.<br/>\n",
    "\n",
    "For more info check this link:<a href='https://pandas.pydata.org/pandas-docs/stable/groupby.html'>Group By: split-apply-combine</a>"
   ]
  },
  {
   "cell_type": "markdown",
   "metadata": {},
   "source": [
    "<br/>\n",
    "<br/>\n",
    "\n",
    "\n",
    "Till now we have seen acadimic data, From here on we will use sample kabaddi data to understand the functions"
   ]
  },
  {
   "cell_type": "markdown",
   "metadata": {},
   "source": [
    "**sample kabaddi dataset**"
   ]
  },
  {
   "cell_type": "code",
   "execution_count": 5,
   "metadata": {},
   "outputs": [
    {
     "data": {
      "text/html": [
       "<div>\n",
       "<style>\n",
       "    .dataframe thead tr:only-child th {\n",
       "        text-align: right;\n",
       "    }\n",
       "\n",
       "    .dataframe thead th {\n",
       "        text-align: left;\n",
       "    }\n",
       "\n",
       "    .dataframe tbody tr th {\n",
       "        vertical-align: top;\n",
       "    }\n",
       "</style>\n",
       "<table border=\"1\" class=\"dataframe\">\n",
       "  <thead>\n",
       "    <tr style=\"text-align: right;\">\n",
       "      <th></th>\n",
       "      <th>Player</th>\n",
       "      <th>Profile</th>\n",
       "      <th>Raid_Points</th>\n",
       "      <th>Tackle_Points</th>\n",
       "      <th>Year</th>\n",
       "    </tr>\n",
       "  </thead>\n",
       "  <tbody>\n",
       "    <tr>\n",
       "      <th>0</th>\n",
       "      <td>Rahul</td>\n",
       "      <td>All Rounder</td>\n",
       "      <td>300</td>\n",
       "      <td>45</td>\n",
       "      <td>2014</td>\n",
       "    </tr>\n",
       "    <tr>\n",
       "      <th>1</th>\n",
       "      <td>Pradeep</td>\n",
       "      <td>Raider</td>\n",
       "      <td>368</td>\n",
       "      <td>1</td>\n",
       "      <td>2017</td>\n",
       "    </tr>\n",
       "    <tr>\n",
       "      <th>2</th>\n",
       "      <td>Ajay</td>\n",
       "      <td>Raider</td>\n",
       "      <td>258</td>\n",
       "      <td>20</td>\n",
       "      <td>2017</td>\n",
       "    </tr>\n",
       "    <tr>\n",
       "      <th>3</th>\n",
       "      <td>Sandeep</td>\n",
       "      <td>Defender</td>\n",
       "      <td>200</td>\n",
       "      <td>50</td>\n",
       "      <td>2015</td>\n",
       "    </tr>\n",
       "    <tr>\n",
       "      <th>4</th>\n",
       "      <td>Nithin</td>\n",
       "      <td>Raider</td>\n",
       "      <td>45</td>\n",
       "      <td>30</td>\n",
       "      <td>2014</td>\n",
       "    </tr>\n",
       "    <tr>\n",
       "      <th>5</th>\n",
       "      <td>Anup</td>\n",
       "      <td>Raider</td>\n",
       "      <td>200</td>\n",
       "      <td>25</td>\n",
       "      <td>2015</td>\n",
       "    </tr>\n",
       "    <tr>\n",
       "      <th>6</th>\n",
       "      <td>Surendar</td>\n",
       "      <td>Defender</td>\n",
       "      <td>45</td>\n",
       "      <td>100</td>\n",
       "      <td>2017</td>\n",
       "    </tr>\n",
       "    <tr>\n",
       "      <th>7</th>\n",
       "      <td>Manjith</td>\n",
       "      <td>Defender</td>\n",
       "      <td>60</td>\n",
       "      <td>40</td>\n",
       "      <td>2014</td>\n",
       "    </tr>\n",
       "  </tbody>\n",
       "</table>\n",
       "</div>"
      ],
      "text/plain": [
       "     Player      Profile  Raid_Points  Tackle_Points  Year\n",
       "0     Rahul  All Rounder          300             45  2014\n",
       "1   Pradeep       Raider          368              1  2017\n",
       "2      Ajay       Raider          258             20  2017\n",
       "3   Sandeep     Defender          200             50  2015\n",
       "4    Nithin       Raider           45             30  2014\n",
       "5      Anup       Raider          200             25  2015\n",
       "6  Surendar     Defender           45            100  2017\n",
       "7   Manjith     Defender           60             40  2014"
      ]
     },
     "metadata": {},
     "output_type": "display_data"
    }
   ],
   "source": [
    "example_df = pd.DataFrame({'Player':['Rahul','Pradeep','Ajay','Sandeep','Nithin','Anup','Surendar','Manjith'],\n",
    "                                   'Raid_Points':[300,368,258,200,45,200,45,60],\n",
    "                                   'Tackle_Points':[45,1,20,50,30,25,100,40],\n",
    "                                   'Profile':['All Rounder','Raider','Raider','Defender','Raider','Raider','Defender','Defender'],\n",
    "                                   'Year':[2014,2017,2017,2015,2014,2015,2017,2014]})\n",
    "display(example_df)"
   ]
  },
  {
   "cell_type": "markdown",
   "metadata": {},
   "source": [
    "#### Groupby"
   ]
  },
  {
   "cell_type": "markdown",
   "metadata": {},
   "source": [
    "**Grouping data by a series**"
   ]
  },
  {
   "cell_type": "code",
   "execution_count": 62,
   "metadata": {},
   "outputs": [
    {
     "data": {
      "text/plain": [
       "<pandas.core.groupby.DataFrameGroupBy object at 0x00000203B05E8E80>"
      ]
     },
     "execution_count": 62,
     "metadata": {},
     "output_type": "execute_result"
    }
   ],
   "source": [
    "example_df.groupby('Year')"
   ]
  },
  {
   "cell_type": "markdown",
   "metadata": {},
   "source": [
    "* Note: groupby fucntion has returned DataFrameGroupBy object, not dataframe.<br/>\n",
    "* See below examples to know how access elements from  DataFrameGroupBy object."
   ]
  },
  {
   "cell_type": "markdown",
   "metadata": {},
   "source": [
    "**case**<br/>\n",
    "want to see the performance of players based on year."
   ]
  },
  {
   "cell_type": "markdown",
   "metadata": {},
   "source": [
    "**solution**"
   ]
  },
  {
   "cell_type": "markdown",
   "metadata": {},
   "source": [
    "**Accessing groups from DataFrameGroupBy object**"
   ]
  },
  {
   "cell_type": "code",
   "execution_count": 63,
   "metadata": {},
   "outputs": [
    {
     "data": {
      "text/plain": [
       "{2014: Int64Index([0, 4, 7], dtype='int64'),\n",
       " 2015: Int64Index([3, 5], dtype='int64'),\n",
       " 2017: Int64Index([1, 2, 6], dtype='int64')}"
      ]
     },
     "execution_count": 63,
     "metadata": {},
     "output_type": "execute_result"
    }
   ],
   "source": [
    "grb_year = example_df.groupby('Year')\n",
    "grb_year.groups"
   ]
  },
  {
   "cell_type": "markdown",
   "metadata": {},
   "source": [
    "* Here we got groups but this data is not in readable form, to see data use either access by get_group method or use for loop to print the contents."
   ]
  },
  {
   "cell_type": "markdown",
   "metadata": {},
   "source": [
    "**Accessing specified group using get_group method**"
   ]
  },
  {
   "cell_type": "code",
   "execution_count": 64,
   "metadata": {
    "scrolled": true
   },
   "outputs": [
    {
     "data": {
      "text/html": [
       "<div>\n",
       "<style>\n",
       "    .dataframe thead tr:only-child th {\n",
       "        text-align: right;\n",
       "    }\n",
       "\n",
       "    .dataframe thead th {\n",
       "        text-align: left;\n",
       "    }\n",
       "\n",
       "    .dataframe tbody tr th {\n",
       "        vertical-align: top;\n",
       "    }\n",
       "</style>\n",
       "<table border=\"1\" class=\"dataframe\">\n",
       "  <thead>\n",
       "    <tr style=\"text-align: right;\">\n",
       "      <th></th>\n",
       "      <th>Player</th>\n",
       "      <th>Profile</th>\n",
       "      <th>Raid_Points</th>\n",
       "      <th>Tackle_Points</th>\n",
       "      <th>Year</th>\n",
       "    </tr>\n",
       "  </thead>\n",
       "  <tbody>\n",
       "    <tr>\n",
       "      <th>0</th>\n",
       "      <td>Rahul</td>\n",
       "      <td>All Rounder</td>\n",
       "      <td>300</td>\n",
       "      <td>45</td>\n",
       "      <td>2014</td>\n",
       "    </tr>\n",
       "    <tr>\n",
       "      <th>4</th>\n",
       "      <td>Nithin</td>\n",
       "      <td>Raider</td>\n",
       "      <td>45</td>\n",
       "      <td>30</td>\n",
       "      <td>2014</td>\n",
       "    </tr>\n",
       "    <tr>\n",
       "      <th>7</th>\n",
       "      <td>Manjith</td>\n",
       "      <td>Defender</td>\n",
       "      <td>60</td>\n",
       "      <td>40</td>\n",
       "      <td>2014</td>\n",
       "    </tr>\n",
       "  </tbody>\n",
       "</table>\n",
       "</div>"
      ],
      "text/plain": [
       "    Player      Profile  Raid_Points  Tackle_Points  Year\n",
       "0    Rahul  All Rounder          300             45  2014\n",
       "4   Nithin       Raider           45             30  2014\n",
       "7  Manjith     Defender           60             40  2014"
      ]
     },
     "execution_count": 64,
     "metadata": {},
     "output_type": "execute_result"
    }
   ],
   "source": [
    "grb_year.get_group(2014)"
   ]
  },
  {
   "cell_type": "markdown",
   "metadata": {},
   "source": [
    "** Printing data in group object using for loop**"
   ]
  },
  {
   "cell_type": "code",
   "execution_count": 66,
   "metadata": {
    "scrolled": true
   },
   "outputs": [
    {
     "name": "stdout",
     "output_type": "stream",
     "text": [
      "2014\n",
      "    Player      Profile  Raid_Points  Tackle_Points  Year\n",
      "0    Rahul  All Rounder          300             45  2014\n",
      "4   Nithin       Raider           45             30  2014\n",
      "7  Manjith     Defender           60             40  2014\n",
      "2015\n",
      "    Player   Profile  Raid_Points  Tackle_Points  Year\n",
      "3  Sandeep  Defender          200             50  2015\n",
      "5     Anup    Raider          200             25  2015\n",
      "2017\n",
      "     Player   Profile  Raid_Points  Tackle_Points  Year\n",
      "1   Pradeep    Raider          368              1  2017\n",
      "2      Ajay    Raider          258             20  2017\n",
      "6  Surendar  Defender           45            100  2017\n"
     ]
    }
   ],
   "source": [
    "for name,group in grb_year:\n",
    "    print(name)\n",
    "    print(group)"
   ]
  },
  {
   "cell_type": "markdown",
   "metadata": {},
   "source": [
    "**case**<br/>\n",
    "Sponsors want to see the summary of data over the years."
   ]
  },
  {
   "cell_type": "markdown",
   "metadata": {},
   "source": [
    "**solution**"
   ]
  },
  {
   "cell_type": "markdown",
   "metadata": {},
   "source": [
    "** Finding summary of group object**"
   ]
  },
  {
   "cell_type": "markdown",
   "metadata": {},
   "source": [
    "This example give you an idea how to describe data based on year."
   ]
  },
  {
   "cell_type": "code",
   "execution_count": 67,
   "metadata": {},
   "outputs": [
    {
     "data": {
      "text/html": [
       "<div>\n",
       "<style>\n",
       "    .dataframe thead tr:only-child th {\n",
       "        text-align: right;\n",
       "    }\n",
       "\n",
       "    .dataframe thead th {\n",
       "        text-align: left;\n",
       "    }\n",
       "\n",
       "    .dataframe tbody tr th {\n",
       "        vertical-align: top;\n",
       "    }\n",
       "</style>\n",
       "<table border=\"1\" class=\"dataframe\">\n",
       "  <thead>\n",
       "    <tr>\n",
       "      <th></th>\n",
       "      <th colspan=\"8\" halign=\"left\">Raid_Points</th>\n",
       "      <th colspan=\"8\" halign=\"left\">Tackle_Points</th>\n",
       "    </tr>\n",
       "    <tr>\n",
       "      <th></th>\n",
       "      <th>count</th>\n",
       "      <th>mean</th>\n",
       "      <th>std</th>\n",
       "      <th>min</th>\n",
       "      <th>25%</th>\n",
       "      <th>50%</th>\n",
       "      <th>75%</th>\n",
       "      <th>max</th>\n",
       "      <th>count</th>\n",
       "      <th>mean</th>\n",
       "      <th>std</th>\n",
       "      <th>min</th>\n",
       "      <th>25%</th>\n",
       "      <th>50%</th>\n",
       "      <th>75%</th>\n",
       "      <th>max</th>\n",
       "    </tr>\n",
       "    <tr>\n",
       "      <th>Year</th>\n",
       "      <th></th>\n",
       "      <th></th>\n",
       "      <th></th>\n",
       "      <th></th>\n",
       "      <th></th>\n",
       "      <th></th>\n",
       "      <th></th>\n",
       "      <th></th>\n",
       "      <th></th>\n",
       "      <th></th>\n",
       "      <th></th>\n",
       "      <th></th>\n",
       "      <th></th>\n",
       "      <th></th>\n",
       "      <th></th>\n",
       "      <th></th>\n",
       "    </tr>\n",
       "  </thead>\n",
       "  <tbody>\n",
       "    <tr>\n",
       "      <th>2014</th>\n",
       "      <td>3.0</td>\n",
       "      <td>135.000000</td>\n",
       "      <td>143.090880</td>\n",
       "      <td>45.0</td>\n",
       "      <td>52.5</td>\n",
       "      <td>60.0</td>\n",
       "      <td>180.0</td>\n",
       "      <td>300.0</td>\n",
       "      <td>3.0</td>\n",
       "      <td>38.333333</td>\n",
       "      <td>7.637626</td>\n",
       "      <td>30.0</td>\n",
       "      <td>35.00</td>\n",
       "      <td>40.0</td>\n",
       "      <td>42.50</td>\n",
       "      <td>45.0</td>\n",
       "    </tr>\n",
       "    <tr>\n",
       "      <th>2015</th>\n",
       "      <td>2.0</td>\n",
       "      <td>200.000000</td>\n",
       "      <td>0.000000</td>\n",
       "      <td>200.0</td>\n",
       "      <td>200.0</td>\n",
       "      <td>200.0</td>\n",
       "      <td>200.0</td>\n",
       "      <td>200.0</td>\n",
       "      <td>2.0</td>\n",
       "      <td>37.500000</td>\n",
       "      <td>17.677670</td>\n",
       "      <td>25.0</td>\n",
       "      <td>31.25</td>\n",
       "      <td>37.5</td>\n",
       "      <td>43.75</td>\n",
       "      <td>50.0</td>\n",
       "    </tr>\n",
       "    <tr>\n",
       "      <th>2017</th>\n",
       "      <td>3.0</td>\n",
       "      <td>223.666667</td>\n",
       "      <td>164.214291</td>\n",
       "      <td>45.0</td>\n",
       "      <td>151.5</td>\n",
       "      <td>258.0</td>\n",
       "      <td>313.0</td>\n",
       "      <td>368.0</td>\n",
       "      <td>3.0</td>\n",
       "      <td>40.333333</td>\n",
       "      <td>52.538874</td>\n",
       "      <td>1.0</td>\n",
       "      <td>10.50</td>\n",
       "      <td>20.0</td>\n",
       "      <td>60.00</td>\n",
       "      <td>100.0</td>\n",
       "    </tr>\n",
       "  </tbody>\n",
       "</table>\n",
       "</div>"
      ],
      "text/plain": [
       "     Raid_Points                                                             \\\n",
       "           count        mean         std    min    25%    50%    75%    max   \n",
       "Year                                                                          \n",
       "2014         3.0  135.000000  143.090880   45.0   52.5   60.0  180.0  300.0   \n",
       "2015         2.0  200.000000    0.000000  200.0  200.0  200.0  200.0  200.0   \n",
       "2017         3.0  223.666667  164.214291   45.0  151.5  258.0  313.0  368.0   \n",
       "\n",
       "     Tackle_Points                                                         \n",
       "             count       mean        std   min    25%   50%    75%    max  \n",
       "Year                                                                       \n",
       "2014           3.0  38.333333   7.637626  30.0  35.00  40.0  42.50   45.0  \n",
       "2015           2.0  37.500000  17.677670  25.0  31.25  37.5  43.75   50.0  \n",
       "2017           3.0  40.333333  52.538874   1.0  10.50  20.0  60.00  100.0  "
      ]
     },
     "execution_count": 67,
     "metadata": {},
     "output_type": "execute_result"
    }
   ],
   "source": [
    "example_df.groupby('Year').describe()"
   ]
  },
  {
   "cell_type": "markdown",
   "metadata": {},
   "source": [
    "**case**<br/>\n",
    "Aksed to find the total number of raid points scores by year"
   ]
  },
  {
   "cell_type": "markdown",
   "metadata": {},
   "source": [
    "**solution**"
   ]
  },
  {
   "cell_type": "markdown",
   "metadata": {},
   "source": [
    "** Applying function sum function on grouped data**"
   ]
  },
  {
   "cell_type": "code",
   "execution_count": 68,
   "metadata": {},
   "outputs": [
    {
     "data": {
      "text/plain": [
       "Year\n",
       "2014    405\n",
       "2015    400\n",
       "2017    671\n",
       "Name: Raid_Points, dtype: int64"
      ]
     },
     "execution_count": 68,
     "metadata": {},
     "output_type": "execute_result"
    }
   ],
   "source": [
    "example_df.groupby('Year')['Raid_Points'].sum()"
   ]
  },
  {
   "cell_type": "markdown",
   "metadata": {
    "collapsed": true
   },
   "source": [
    "**case**<br/>\n",
    "Asked to find the total raid points and tackle points of players by the year and categorywise(profilewise).\n",
    "In general terms , If sponsor gives profile and year information , they have to get the records of players with given profile and year."
   ]
  },
  {
   "cell_type": "markdown",
   "metadata": {},
   "source": [
    "**Grouping data using lists of columns**"
   ]
  },
  {
   "cell_type": "markdown",
   "metadata": {},
   "source": [
    "This example shows you how to group data by multiple series infromation."
   ]
  },
  {
   "cell_type": "code",
   "execution_count": 69,
   "metadata": {},
   "outputs": [
    {
     "data": {
      "text/plain": [
       "{('All Rounder', 2014): Int64Index([0], dtype='int64'),\n",
       " ('Defender', 2014): Int64Index([7], dtype='int64'),\n",
       " ('Defender', 2015): Int64Index([3], dtype='int64'),\n",
       " ('Defender', 2017): Int64Index([6], dtype='int64'),\n",
       " ('Raider', 2014): Int64Index([4], dtype='int64'),\n",
       " ('Raider', 2015): Int64Index([5], dtype='int64'),\n",
       " ('Raider', 2017): Int64Index([1, 2], dtype='int64')}"
      ]
     },
     "execution_count": 69,
     "metadata": {},
     "output_type": "execute_result"
    }
   ],
   "source": [
    "grb_profile_year = example_df.groupby(['Profile','Year'])\n",
    "grb_profile_year.groups"
   ]
  },
  {
   "cell_type": "markdown",
   "metadata": {},
   "source": [
    "**Accessing perticular group**"
   ]
  },
  {
   "cell_type": "markdown",
   "metadata": {},
   "source": [
    "Accessing elements in groups using tuple entry(it is actually a group presented in group object)."
   ]
  },
  {
   "cell_type": "code",
   "execution_count": 70,
   "metadata": {},
   "outputs": [
    {
     "data": {
      "text/html": [
       "<div>\n",
       "<style>\n",
       "    .dataframe thead tr:only-child th {\n",
       "        text-align: right;\n",
       "    }\n",
       "\n",
       "    .dataframe thead th {\n",
       "        text-align: left;\n",
       "    }\n",
       "\n",
       "    .dataframe tbody tr th {\n",
       "        vertical-align: top;\n",
       "    }\n",
       "</style>\n",
       "<table border=\"1\" class=\"dataframe\">\n",
       "  <thead>\n",
       "    <tr style=\"text-align: right;\">\n",
       "      <th></th>\n",
       "      <th>Player</th>\n",
       "      <th>Profile</th>\n",
       "      <th>Raid_Points</th>\n",
       "      <th>Tackle_Points</th>\n",
       "      <th>Year</th>\n",
       "    </tr>\n",
       "  </thead>\n",
       "  <tbody>\n",
       "    <tr>\n",
       "      <th>1</th>\n",
       "      <td>Pradeep</td>\n",
       "      <td>Raider</td>\n",
       "      <td>368</td>\n",
       "      <td>1</td>\n",
       "      <td>2017</td>\n",
       "    </tr>\n",
       "    <tr>\n",
       "      <th>2</th>\n",
       "      <td>Ajay</td>\n",
       "      <td>Raider</td>\n",
       "      <td>258</td>\n",
       "      <td>20</td>\n",
       "      <td>2017</td>\n",
       "    </tr>\n",
       "  </tbody>\n",
       "</table>\n",
       "</div>"
      ],
      "text/plain": [
       "    Player Profile  Raid_Points  Tackle_Points  Year\n",
       "1  Pradeep  Raider          368              1  2017\n",
       "2     Ajay  Raider          258             20  2017"
      ]
     },
     "execution_count": 70,
     "metadata": {},
     "output_type": "execute_result"
    }
   ],
   "source": [
    "grb_profile_year.get_group(('Raider', 2017))"
   ]
  },
  {
   "cell_type": "markdown",
   "metadata": {},
   "source": [
    "<br/>\n",
    "### Aggregation:"
   ]
  },
  {
   "cell_type": "markdown",
   "metadata": {},
   "source": [
    "**case**<br/>\n",
    "Asked to find the total number of raid points and tackle points secured by year.\n"
   ]
  },
  {
   "cell_type": "markdown",
   "metadata": {},
   "source": [
    "**solution**"
   ]
  },
  {
   "cell_type": "markdown",
   "metadata": {},
   "source": [
    "**agg method on group object**"
   ]
  },
  {
   "cell_type": "markdown",
   "metadata": {},
   "source": [
    "This example illustrates how to perform aggregate operation on group object."
   ]
  },
  {
   "cell_type": "code",
   "execution_count": 71,
   "metadata": {},
   "outputs": [
    {
     "data": {
      "text/html": [
       "<div>\n",
       "<style>\n",
       "    .dataframe thead tr:only-child th {\n",
       "        text-align: right;\n",
       "    }\n",
       "\n",
       "    .dataframe thead th {\n",
       "        text-align: left;\n",
       "    }\n",
       "\n",
       "    .dataframe tbody tr th {\n",
       "        vertical-align: top;\n",
       "    }\n",
       "</style>\n",
       "<table border=\"1\" class=\"dataframe\">\n",
       "  <thead>\n",
       "    <tr style=\"text-align: right;\">\n",
       "      <th></th>\n",
       "      <th>Raid_Points</th>\n",
       "      <th>Tackle_Points</th>\n",
       "    </tr>\n",
       "    <tr>\n",
       "      <th>Year</th>\n",
       "      <th></th>\n",
       "      <th></th>\n",
       "    </tr>\n",
       "  </thead>\n",
       "  <tbody>\n",
       "    <tr>\n",
       "      <th>2014</th>\n",
       "      <td>405</td>\n",
       "      <td>115</td>\n",
       "    </tr>\n",
       "    <tr>\n",
       "      <th>2015</th>\n",
       "      <td>400</td>\n",
       "      <td>75</td>\n",
       "    </tr>\n",
       "    <tr>\n",
       "      <th>2017</th>\n",
       "      <td>671</td>\n",
       "      <td>121</td>\n",
       "    </tr>\n",
       "  </tbody>\n",
       "</table>\n",
       "</div>"
      ],
      "text/plain": [
       "      Raid_Points  Tackle_Points\n",
       "Year                            \n",
       "2014          405            115\n",
       "2015          400             75\n",
       "2017          671            121"
      ]
     },
     "execution_count": 71,
     "metadata": {},
     "output_type": "execute_result"
    }
   ],
   "source": [
    "example_df.groupby('Year').agg('sum')"
   ]
  },
  {
   "cell_type": "markdown",
   "metadata": {},
   "source": [
    "Note: To agg we can also pass np.sum instead of 'sum'."
   ]
  },
  {
   "cell_type": "markdown",
   "metadata": {},
   "source": [
    "**case**<br/>\n",
    "  Asked to see major statistical summary of data based on year."
   ]
  },
  {
   "cell_type": "markdown",
   "metadata": {},
   "source": [
    "**solution**"
   ]
  },
  {
   "cell_type": "markdown",
   "metadata": {},
   "source": [
    "**Applying list of aggregate functions on group**"
   ]
  },
  {
   "cell_type": "markdown",
   "metadata": {
    "collapsed": true
   },
   "source": [
    "This example shows you how to perform multiple agg operations on grouped object."
   ]
  },
  {
   "cell_type": "code",
   "execution_count": 72,
   "metadata": {},
   "outputs": [
    {
     "data": {
      "text/html": [
       "<div>\n",
       "<style>\n",
       "    .dataframe thead tr:only-child th {\n",
       "        text-align: right;\n",
       "    }\n",
       "\n",
       "    .dataframe thead th {\n",
       "        text-align: left;\n",
       "    }\n",
       "\n",
       "    .dataframe tbody tr th {\n",
       "        vertical-align: top;\n",
       "    }\n",
       "</style>\n",
       "<table border=\"1\" class=\"dataframe\">\n",
       "  <thead>\n",
       "    <tr>\n",
       "      <th></th>\n",
       "      <th colspan=\"3\" halign=\"left\">Raid_Points</th>\n",
       "      <th colspan=\"3\" halign=\"left\">Tackle_Points</th>\n",
       "    </tr>\n",
       "    <tr>\n",
       "      <th></th>\n",
       "      <th>sum</th>\n",
       "      <th>mean</th>\n",
       "      <th>std</th>\n",
       "      <th>sum</th>\n",
       "      <th>mean</th>\n",
       "      <th>std</th>\n",
       "    </tr>\n",
       "    <tr>\n",
       "      <th>Year</th>\n",
       "      <th></th>\n",
       "      <th></th>\n",
       "      <th></th>\n",
       "      <th></th>\n",
       "      <th></th>\n",
       "      <th></th>\n",
       "    </tr>\n",
       "  </thead>\n",
       "  <tbody>\n",
       "    <tr>\n",
       "      <th>2014</th>\n",
       "      <td>405</td>\n",
       "      <td>135.000000</td>\n",
       "      <td>143.090880</td>\n",
       "      <td>115</td>\n",
       "      <td>38.333333</td>\n",
       "      <td>7.637626</td>\n",
       "    </tr>\n",
       "    <tr>\n",
       "      <th>2015</th>\n",
       "      <td>400</td>\n",
       "      <td>200.000000</td>\n",
       "      <td>0.000000</td>\n",
       "      <td>75</td>\n",
       "      <td>37.500000</td>\n",
       "      <td>17.677670</td>\n",
       "    </tr>\n",
       "    <tr>\n",
       "      <th>2017</th>\n",
       "      <td>671</td>\n",
       "      <td>223.666667</td>\n",
       "      <td>164.214291</td>\n",
       "      <td>121</td>\n",
       "      <td>40.333333</td>\n",
       "      <td>52.538874</td>\n",
       "    </tr>\n",
       "  </tbody>\n",
       "</table>\n",
       "</div>"
      ],
      "text/plain": [
       "     Raid_Points                         Tackle_Points                      \n",
       "             sum        mean         std           sum       mean        std\n",
       "Year                                                                        \n",
       "2014         405  135.000000  143.090880           115  38.333333   7.637626\n",
       "2015         400  200.000000    0.000000            75  37.500000  17.677670\n",
       "2017         671  223.666667  164.214291           121  40.333333  52.538874"
      ]
     },
     "execution_count": 72,
     "metadata": {},
     "output_type": "execute_result"
    }
   ],
   "source": [
    "example_df.groupby('Year').agg(['sum','mean','std'])"
   ]
  },
  {
   "cell_type": "markdown",
   "metadata": {},
   "source": [
    "<br/>\n",
    "#### Transformation:\n",
    "\n",
    "* In book <a href=https://www.amazon.com/Python-Data-Science-Handbook-Essential/dp/1491912057/ref=as_li_ss_tl?ie=UTF8&qid=1491155961&sr=8-1&keywords=python+data+science+handbook&linkCode=sl1&tag=pbpython-20&linkId=5b7ccd9b952061a57f7c88236e6ac784 >Python Datascience Handbook </a>  transformation is described as,<br/>\n",
    "While aggregation must return a reduced version of the data, transformation can return some transformed version of the full data to recombine. For such a transformation, the output is the same shape as the input. A common example is to center the data by subtracting the group-wise mean."
   ]
  },
  {
   "cell_type": "markdown",
   "metadata": {},
   "source": [
    "![](https://raw.githubusercontent.com/suresrividya/data-science-notes/master/transformgroupby.PNG)"
   ]
  },
  {
   "cell_type": "code",
   "execution_count": 42,
   "metadata": {},
   "outputs": [
    {
     "data": {
      "text/html": [
       "<div>\n",
       "<style>\n",
       "    .dataframe thead tr:only-child th {\n",
       "        text-align: right;\n",
       "    }\n",
       "\n",
       "    .dataframe thead th {\n",
       "        text-align: left;\n",
       "    }\n",
       "\n",
       "    .dataframe tbody tr th {\n",
       "        vertical-align: top;\n",
       "    }\n",
       "</style>\n",
       "<table border=\"1\" class=\"dataframe\">\n",
       "  <thead>\n",
       "    <tr style=\"text-align: right;\">\n",
       "      <th></th>\n",
       "      <th>Raid_Points</th>\n",
       "      <th>Tackle_Points</th>\n",
       "    </tr>\n",
       "  </thead>\n",
       "  <tbody>\n",
       "    <tr>\n",
       "      <th>0</th>\n",
       "      <td>135.000000</td>\n",
       "      <td>38.333333</td>\n",
       "    </tr>\n",
       "    <tr>\n",
       "      <th>1</th>\n",
       "      <td>223.666667</td>\n",
       "      <td>40.333333</td>\n",
       "    </tr>\n",
       "    <tr>\n",
       "      <th>2</th>\n",
       "      <td>223.666667</td>\n",
       "      <td>40.333333</td>\n",
       "    </tr>\n",
       "    <tr>\n",
       "      <th>3</th>\n",
       "      <td>200.000000</td>\n",
       "      <td>37.500000</td>\n",
       "    </tr>\n",
       "    <tr>\n",
       "      <th>4</th>\n",
       "      <td>135.000000</td>\n",
       "      <td>38.333333</td>\n",
       "    </tr>\n",
       "    <tr>\n",
       "      <th>5</th>\n",
       "      <td>200.000000</td>\n",
       "      <td>37.500000</td>\n",
       "    </tr>\n",
       "    <tr>\n",
       "      <th>6</th>\n",
       "      <td>223.666667</td>\n",
       "      <td>40.333333</td>\n",
       "    </tr>\n",
       "    <tr>\n",
       "      <th>7</th>\n",
       "      <td>135.000000</td>\n",
       "      <td>38.333333</td>\n",
       "    </tr>\n",
       "  </tbody>\n",
       "</table>\n",
       "</div>"
      ],
      "text/plain": [
       "   Raid_Points  Tackle_Points\n",
       "0   135.000000      38.333333\n",
       "1   223.666667      40.333333\n",
       "2   223.666667      40.333333\n",
       "3   200.000000      37.500000\n",
       "4   135.000000      38.333333\n",
       "5   200.000000      37.500000\n",
       "6   223.666667      40.333333\n",
       "7   135.000000      38.333333"
      ]
     },
     "execution_count": 42,
     "metadata": {},
     "output_type": "execute_result"
    }
   ],
   "source": [
    "example_df.groupby('Year').transform(lambda x: np.mean(x))"
   ]
  },
  {
   "cell_type": "markdown",
   "metadata": {},
   "source": [
    "**Transform on grouped object**"
   ]
  },
  {
   "cell_type": "code",
   "execution_count": 178,
   "metadata": {},
   "outputs": [
    {
     "data": {
      "text/html": [
       "<div>\n",
       "<style>\n",
       "    .dataframe thead tr:only-child th {\n",
       "        text-align: right;\n",
       "    }\n",
       "\n",
       "    .dataframe thead th {\n",
       "        text-align: left;\n",
       "    }\n",
       "\n",
       "    .dataframe tbody tr th {\n",
       "        vertical-align: top;\n",
       "    }\n",
       "</style>\n",
       "<table border=\"1\" class=\"dataframe\">\n",
       "  <thead>\n",
       "    <tr style=\"text-align: right;\">\n",
       "      <th></th>\n",
       "      <th>Raid_Points</th>\n",
       "      <th>Tackle_Points</th>\n",
       "    </tr>\n",
       "  </thead>\n",
       "  <tbody>\n",
       "    <tr>\n",
       "      <th>0</th>\n",
       "      <td>11.531133</td>\n",
       "      <td>8.728716</td>\n",
       "    </tr>\n",
       "    <tr>\n",
       "      <th>1</th>\n",
       "      <td>8.789328</td>\n",
       "      <td>-7.486520</td>\n",
       "    </tr>\n",
       "    <tr>\n",
       "      <th>2</th>\n",
       "      <td>2.090764</td>\n",
       "      <td>-3.870150</td>\n",
       "    </tr>\n",
       "    <tr>\n",
       "      <th>3</th>\n",
       "      <td>NaN</td>\n",
       "      <td>7.071068</td>\n",
       "    </tr>\n",
       "    <tr>\n",
       "      <th>4</th>\n",
       "      <td>-6.289709</td>\n",
       "      <td>-10.910895</td>\n",
       "    </tr>\n",
       "    <tr>\n",
       "      <th>5</th>\n",
       "      <td>NaN</td>\n",
       "      <td>-7.071068</td>\n",
       "    </tr>\n",
       "    <tr>\n",
       "      <th>6</th>\n",
       "      <td>-10.880092</td>\n",
       "      <td>11.356670</td>\n",
       "    </tr>\n",
       "    <tr>\n",
       "      <th>7</th>\n",
       "      <td>-5.241424</td>\n",
       "      <td>2.182179</td>\n",
       "    </tr>\n",
       "  </tbody>\n",
       "</table>\n",
       "</div>"
      ],
      "text/plain": [
       "   Raid_Points  Tackle_Points\n",
       "0    11.531133       8.728716\n",
       "1     8.789328      -7.486520\n",
       "2     2.090764      -3.870150\n",
       "3          NaN       7.071068\n",
       "4    -6.289709     -10.910895\n",
       "5          NaN      -7.071068\n",
       "6   -10.880092      11.356670\n",
       "7    -5.241424       2.182179"
      ]
     },
     "execution_count": 178,
     "metadata": {},
     "output_type": "execute_result"
    }
   ],
   "source": [
    "example_df.groupby('Year').transform(lambda x: (x - x.mean()) / x.std()*10)"
   ]
  },
  {
   "cell_type": "markdown",
   "metadata": {},
   "source": [
    "<br/>\n",
    "### Filtration:\n",
    "* Returns a copy of a DataFrame excluding elements from groups that do not satisfy the boolean criterion specified by function.\n"
   ]
  },
  {
   "cell_type": "markdown",
   "metadata": {},
   "source": [
    "**Filtraring data in grouped object on given condition**"
   ]
  },
  {
   "cell_type": "code",
   "execution_count": 74,
   "metadata": {},
   "outputs": [
    {
     "data": {
      "text/html": [
       "<div>\n",
       "<style>\n",
       "    .dataframe thead tr:only-child th {\n",
       "        text-align: right;\n",
       "    }\n",
       "\n",
       "    .dataframe thead th {\n",
       "        text-align: left;\n",
       "    }\n",
       "\n",
       "    .dataframe tbody tr th {\n",
       "        vertical-align: top;\n",
       "    }\n",
       "</style>\n",
       "<table border=\"1\" class=\"dataframe\">\n",
       "  <thead>\n",
       "    <tr style=\"text-align: right;\">\n",
       "      <th></th>\n",
       "      <th>Player</th>\n",
       "      <th>Profile</th>\n",
       "      <th>Raid_Points</th>\n",
       "      <th>Tackle_Points</th>\n",
       "      <th>Year</th>\n",
       "    </tr>\n",
       "  </thead>\n",
       "  <tbody>\n",
       "    <tr>\n",
       "      <th>0</th>\n",
       "      <td>Rahul</td>\n",
       "      <td>All Rounder</td>\n",
       "      <td>300</td>\n",
       "      <td>45</td>\n",
       "      <td>2014</td>\n",
       "    </tr>\n",
       "    <tr>\n",
       "      <th>3</th>\n",
       "      <td>Sandeep</td>\n",
       "      <td>Defender</td>\n",
       "      <td>200</td>\n",
       "      <td>50</td>\n",
       "      <td>2015</td>\n",
       "    </tr>\n",
       "    <tr>\n",
       "      <th>4</th>\n",
       "      <td>Nithin</td>\n",
       "      <td>Raider</td>\n",
       "      <td>45</td>\n",
       "      <td>30</td>\n",
       "      <td>2014</td>\n",
       "    </tr>\n",
       "    <tr>\n",
       "      <th>5</th>\n",
       "      <td>Anup</td>\n",
       "      <td>Raider</td>\n",
       "      <td>200</td>\n",
       "      <td>25</td>\n",
       "      <td>2015</td>\n",
       "    </tr>\n",
       "    <tr>\n",
       "      <th>7</th>\n",
       "      <td>Manjith</td>\n",
       "      <td>Defender</td>\n",
       "      <td>60</td>\n",
       "      <td>40</td>\n",
       "      <td>2014</td>\n",
       "    </tr>\n",
       "  </tbody>\n",
       "</table>\n",
       "</div>"
      ],
      "text/plain": [
       "    Player      Profile  Raid_Points  Tackle_Points  Year\n",
       "0    Rahul  All Rounder          300             45  2014\n",
       "3  Sandeep     Defender          200             50  2015\n",
       "4   Nithin       Raider           45             30  2014\n",
       "5     Anup       Raider          200             25  2015\n",
       "7  Manjith     Defender           60             40  2014"
      ]
     },
     "execution_count": 74,
     "metadata": {},
     "output_type": "execute_result"
    }
   ],
   "source": [
    "example_df.groupby('Year').filter(lambda x: x['Raid_Points'].sum() <= 500)"
   ]
  },
  {
   "cell_type": "markdown",
   "metadata": {},
   "source": [
    "<br/>\n",
    "### rolling [ pd.DataFrame.rolling() ]:\n",
    "* Parameters: window: int, or offset()\n",
    "* Result: a Window or Rolling sub-classed for the particular operation\n",
    "\n",
    "\n",
    "* Provides rolling window calculations\n",
    "* See Below example to understand rolling"
   ]
  },
  {
   "cell_type": "markdown",
   "metadata": {},
   "source": [
    "**Rolling on dataframe**"
   ]
  },
  {
   "cell_type": "code",
   "execution_count": 43,
   "metadata": {
    "scrolled": true
   },
   "outputs": [
    {
     "data": {
      "text/html": [
       "<div>\n",
       "<style>\n",
       "    .dataframe thead tr:only-child th {\n",
       "        text-align: right;\n",
       "    }\n",
       "\n",
       "    .dataframe thead th {\n",
       "        text-align: left;\n",
       "    }\n",
       "\n",
       "    .dataframe tbody tr th {\n",
       "        vertical-align: top;\n",
       "    }\n",
       "</style>\n",
       "<table border=\"1\" class=\"dataframe\">\n",
       "  <thead>\n",
       "    <tr style=\"text-align: right;\">\n",
       "      <th></th>\n",
       "      <th>Player</th>\n",
       "      <th>Profile</th>\n",
       "      <th>Raid_Points</th>\n",
       "      <th>Tackle_Points</th>\n",
       "      <th>Year</th>\n",
       "    </tr>\n",
       "  </thead>\n",
       "  <tbody>\n",
       "    <tr>\n",
       "      <th>0</th>\n",
       "      <td>Rahul</td>\n",
       "      <td>All Rounder</td>\n",
       "      <td>NaN</td>\n",
       "      <td>NaN</td>\n",
       "      <td>NaN</td>\n",
       "    </tr>\n",
       "    <tr>\n",
       "      <th>1</th>\n",
       "      <td>Pradeep</td>\n",
       "      <td>Raider</td>\n",
       "      <td>668.0</td>\n",
       "      <td>46.0</td>\n",
       "      <td>4031.0</td>\n",
       "    </tr>\n",
       "    <tr>\n",
       "      <th>2</th>\n",
       "      <td>Ajay</td>\n",
       "      <td>Raider</td>\n",
       "      <td>626.0</td>\n",
       "      <td>21.0</td>\n",
       "      <td>4034.0</td>\n",
       "    </tr>\n",
       "    <tr>\n",
       "      <th>3</th>\n",
       "      <td>Sandeep</td>\n",
       "      <td>Defender</td>\n",
       "      <td>458.0</td>\n",
       "      <td>70.0</td>\n",
       "      <td>4032.0</td>\n",
       "    </tr>\n",
       "    <tr>\n",
       "      <th>4</th>\n",
       "      <td>Nithin</td>\n",
       "      <td>Raider</td>\n",
       "      <td>245.0</td>\n",
       "      <td>80.0</td>\n",
       "      <td>4029.0</td>\n",
       "    </tr>\n",
       "    <tr>\n",
       "      <th>5</th>\n",
       "      <td>Anup</td>\n",
       "      <td>Raider</td>\n",
       "      <td>245.0</td>\n",
       "      <td>55.0</td>\n",
       "      <td>4029.0</td>\n",
       "    </tr>\n",
       "    <tr>\n",
       "      <th>6</th>\n",
       "      <td>Surendar</td>\n",
       "      <td>Defender</td>\n",
       "      <td>245.0</td>\n",
       "      <td>125.0</td>\n",
       "      <td>4032.0</td>\n",
       "    </tr>\n",
       "    <tr>\n",
       "      <th>7</th>\n",
       "      <td>Manjith</td>\n",
       "      <td>Defender</td>\n",
       "      <td>105.0</td>\n",
       "      <td>140.0</td>\n",
       "      <td>4031.0</td>\n",
       "    </tr>\n",
       "  </tbody>\n",
       "</table>\n",
       "</div>"
      ],
      "text/plain": [
       "     Player      Profile  Raid_Points  Tackle_Points    Year\n",
       "0     Rahul  All Rounder          NaN            NaN     NaN\n",
       "1   Pradeep       Raider        668.0           46.0  4031.0\n",
       "2      Ajay       Raider        626.0           21.0  4034.0\n",
       "3   Sandeep     Defender        458.0           70.0  4032.0\n",
       "4    Nithin       Raider        245.0           80.0  4029.0\n",
       "5      Anup       Raider        245.0           55.0  4029.0\n",
       "6  Surendar     Defender        245.0          125.0  4032.0\n",
       "7   Manjith     Defender        105.0          140.0  4031.0"
      ]
     },
     "execution_count": 43,
     "metadata": {},
     "output_type": "execute_result"
    }
   ],
   "source": [
    "example_df.rolling(window=2).sum()"
   ]
  },
  {
   "cell_type": "markdown",
   "metadata": {},
   "source": [
    "Let's understand above rolling method.<br/>\n",
    "* Assume that rolling is a pointer placed at row1 at the time of execution begins.\n",
    " Since we have given window size 2 it looks for 2 values, but at this time it knows only one value(one value in each column).\n",
    "So, it cann't perform the job we specified i.e sum, so it setted all elements in row1 to NaN.\n",
    "Started moving down the table and reached row2.\n",
    "From row2 onwords it knows pointed row values as well as previous row values, By using\n",
    "that data it performed the summation and retuned rolling sum."
   ]
  },
  {
   "cell_type": "markdown",
   "metadata": {},
   "source": [
    "* To eliminate NaN values in result use min_periods argument with appropriate value.<br/>\n",
    "* See below example to know how to eliminate NaN values."
   ]
  },
  {
   "cell_type": "markdown",
   "metadata": {},
   "source": [
    "**Rolling method with argument min_period **"
   ]
  },
  {
   "cell_type": "code",
   "execution_count": 79,
   "metadata": {
    "scrolled": true
   },
   "outputs": [
    {
     "data": {
      "text/html": [
       "<div>\n",
       "<style>\n",
       "    .dataframe thead tr:only-child th {\n",
       "        text-align: right;\n",
       "    }\n",
       "\n",
       "    .dataframe thead th {\n",
       "        text-align: left;\n",
       "    }\n",
       "\n",
       "    .dataframe tbody tr th {\n",
       "        vertical-align: top;\n",
       "    }\n",
       "</style>\n",
       "<table border=\"1\" class=\"dataframe\">\n",
       "  <thead>\n",
       "    <tr style=\"text-align: right;\">\n",
       "      <th></th>\n",
       "      <th>Player</th>\n",
       "      <th>Profile</th>\n",
       "      <th>Raid_Points</th>\n",
       "      <th>Tackle_Points</th>\n",
       "      <th>Year</th>\n",
       "    </tr>\n",
       "  </thead>\n",
       "  <tbody>\n",
       "    <tr>\n",
       "      <th>0</th>\n",
       "      <td>Rahul</td>\n",
       "      <td>All Rounder</td>\n",
       "      <td>300.0</td>\n",
       "      <td>45.0</td>\n",
       "      <td>2014.0</td>\n",
       "    </tr>\n",
       "    <tr>\n",
       "      <th>1</th>\n",
       "      <td>Pradeep</td>\n",
       "      <td>Raider</td>\n",
       "      <td>668.0</td>\n",
       "      <td>46.0</td>\n",
       "      <td>4031.0</td>\n",
       "    </tr>\n",
       "    <tr>\n",
       "      <th>2</th>\n",
       "      <td>Ajay</td>\n",
       "      <td>Raider</td>\n",
       "      <td>626.0</td>\n",
       "      <td>21.0</td>\n",
       "      <td>4034.0</td>\n",
       "    </tr>\n",
       "    <tr>\n",
       "      <th>3</th>\n",
       "      <td>Sandeep</td>\n",
       "      <td>Defender</td>\n",
       "      <td>458.0</td>\n",
       "      <td>70.0</td>\n",
       "      <td>4032.0</td>\n",
       "    </tr>\n",
       "    <tr>\n",
       "      <th>4</th>\n",
       "      <td>Nithin</td>\n",
       "      <td>Raider</td>\n",
       "      <td>245.0</td>\n",
       "      <td>80.0</td>\n",
       "      <td>4029.0</td>\n",
       "    </tr>\n",
       "    <tr>\n",
       "      <th>5</th>\n",
       "      <td>Anup</td>\n",
       "      <td>Raider</td>\n",
       "      <td>245.0</td>\n",
       "      <td>55.0</td>\n",
       "      <td>4029.0</td>\n",
       "    </tr>\n",
       "    <tr>\n",
       "      <th>6</th>\n",
       "      <td>Surendar</td>\n",
       "      <td>Defender</td>\n",
       "      <td>245.0</td>\n",
       "      <td>125.0</td>\n",
       "      <td>4032.0</td>\n",
       "    </tr>\n",
       "    <tr>\n",
       "      <th>7</th>\n",
       "      <td>Manjith</td>\n",
       "      <td>Defender</td>\n",
       "      <td>105.0</td>\n",
       "      <td>140.0</td>\n",
       "      <td>4031.0</td>\n",
       "    </tr>\n",
       "  </tbody>\n",
       "</table>\n",
       "</div>"
      ],
      "text/plain": [
       "     Player      Profile  Raid_Points  Tackle_Points    Year\n",
       "0     Rahul  All Rounder        300.0           45.0  2014.0\n",
       "1   Pradeep       Raider        668.0           46.0  4031.0\n",
       "2      Ajay       Raider        626.0           21.0  4034.0\n",
       "3   Sandeep     Defender        458.0           70.0  4032.0\n",
       "4    Nithin       Raider        245.0           80.0  4029.0\n",
       "5      Anup       Raider        245.0           55.0  4029.0\n",
       "6  Surendar     Defender        245.0          125.0  4032.0\n",
       "7   Manjith     Defender        105.0          140.0  4031.0"
      ]
     },
     "execution_count": 79,
     "metadata": {},
     "output_type": "execute_result"
    }
   ],
   "source": [
    "example_df.rolling(2,min_periods=1).sum()"
   ]
  },
  {
   "cell_type": "markdown",
   "metadata": {},
   "source": [
    "* Note: Rolling is very useful method to analyze time series data."
   ]
  },
  {
   "cell_type": "markdown",
   "metadata": {},
   "source": [
    "### Str [ pd.Series.str ]"
   ]
  },
  {
   "cell_type": "markdown",
   "metadata": {},
   "source": [
    "* Parameters: Object type  Series\n",
    "* Result: Depends on the operation that we perform on str object \n",
    "    \n",
    "    \n",
    "* Designed to work with text series. It is equipped with a set of string processing methods that make it easy\n",
    "to operate on each element of the array.<br/>\n",
    "* Important thing to note is this method executes missing values automatically.."
   ]
  },
  {
   "cell_type": "markdown",
   "metadata": {},
   "source": [
    "**Finding length of players in dataset exmaple_df**"
   ]
  },
  {
   "cell_type": "code",
   "execution_count": 85,
   "metadata": {},
   "outputs": [
    {
     "data": {
      "text/plain": [
       "0    5\n",
       "1    7\n",
       "2    4\n",
       "3    7\n",
       "4    6\n",
       "5    4\n",
       "6    8\n",
       "7    7\n",
       "Name: Player, dtype: int64"
      ]
     },
     "execution_count": 85,
     "metadata": {},
     "output_type": "execute_result"
    }
   ],
   "source": [
    "example_df.Player.str.len()"
   ]
  },
  {
   "cell_type": "markdown",
   "metadata": {},
   "source": [
    "**FInding Name of the Players whose name start with 'S'**"
   ]
  },
  {
   "cell_type": "code",
   "execution_count": 45,
   "metadata": {},
   "outputs": [
    {
     "data": {
      "text/plain": [
       "0    False\n",
       "1    False\n",
       "2    False\n",
       "3     True\n",
       "4    False\n",
       "5    False\n",
       "6     True\n",
       "7    False\n",
       "Name: Player, dtype: bool"
      ]
     },
     "execution_count": 45,
     "metadata": {},
     "output_type": "execute_result"
    }
   ],
   "source": [
    "example_df.Player.str.startswith('S')"
   ]
  },
  {
   "cell_type": "code",
   "execution_count": 46,
   "metadata": {},
   "outputs": [
    {
     "data": {
      "text/html": [
       "<div>\n",
       "<style>\n",
       "    .dataframe thead tr:only-child th {\n",
       "        text-align: right;\n",
       "    }\n",
       "\n",
       "    .dataframe thead th {\n",
       "        text-align: left;\n",
       "    }\n",
       "\n",
       "    .dataframe tbody tr th {\n",
       "        vertical-align: top;\n",
       "    }\n",
       "</style>\n",
       "<table border=\"1\" class=\"dataframe\">\n",
       "  <thead>\n",
       "    <tr style=\"text-align: right;\">\n",
       "      <th></th>\n",
       "      <th>Player</th>\n",
       "      <th>Profile</th>\n",
       "      <th>Raid_Points</th>\n",
       "      <th>Tackle_Points</th>\n",
       "      <th>Year</th>\n",
       "    </tr>\n",
       "  </thead>\n",
       "  <tbody>\n",
       "    <tr>\n",
       "      <th>3</th>\n",
       "      <td>Sandeep</td>\n",
       "      <td>Defender</td>\n",
       "      <td>200</td>\n",
       "      <td>50</td>\n",
       "      <td>2015</td>\n",
       "    </tr>\n",
       "    <tr>\n",
       "      <th>6</th>\n",
       "      <td>Surendar</td>\n",
       "      <td>Defender</td>\n",
       "      <td>45</td>\n",
       "      <td>100</td>\n",
       "      <td>2017</td>\n",
       "    </tr>\n",
       "  </tbody>\n",
       "</table>\n",
       "</div>"
      ],
      "text/plain": [
       "     Player   Profile  Raid_Points  Tackle_Points  Year\n",
       "3   Sandeep  Defender          200             50  2015\n",
       "6  Surendar  Defender           45            100  2017"
      ]
     },
     "execution_count": 46,
     "metadata": {},
     "output_type": "execute_result"
    }
   ],
   "source": [
    "example_df[example_df.Player.str.startswith('S')]"
   ]
  },
  {
   "cell_type": "markdown",
   "metadata": {},
   "source": [
    "## Conclusion\n",
    "In this Chapter we have seen Pandas function pipe,map,apply,applymap,groupby and  applications of them. In the next chaper we will learn another important cancept pandas dataframejoin, merge and concatination technniques."
   ]
  }
 ],
 "metadata": {
  "kernelspec": {
   "display_name": "Python 3",
   "language": "python",
   "name": "python3"
  },
  "language_info": {
   "codemirror_mode": {
    "name": "ipython",
    "version": 3
   },
   "file_extension": ".py",
   "mimetype": "text/x-python",
   "name": "python",
   "nbconvert_exporter": "python",
   "pygments_lexer": "ipython3",
   "version": "3.6.3"
  }
 },
 "nbformat": 4,
 "nbformat_minor": 2
}
