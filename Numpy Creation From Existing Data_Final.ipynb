{
 "cells": [
  {
   "cell_type": "markdown",
   "metadata": {},
   "source": [
    "# Agenda:\n",
    "\n",
    "* Numpy Creation From Existing Data with examples\n",
    "   * From List and Tuple\n",
    "   * From Text Files."
   ]
  },
  {
   "cell_type": "markdown",
   "metadata": {},
   "source": [
    "# Numpy Creation From Existing Data:\n",
    "\n",
    "* Numpy library has numpy.array() and np.asarray() functions. They take list/tuple as input and creates numpy array.\n",
    "\n",
    "## From List and Tuple:\n",
    "### np.array():\n",
    "* Parameter: Object<br/>\n",
    "* Returns: ndarray \n",
    "\n",
    "\n",
    "* Creates numpy array from  given Object(list/tuple)"
   ]
  },
  {
   "cell_type": "markdown",
   "metadata": {},
   "source": [
    "**Creating numpy using list**\n",
    "* Create a list with some values and assign list to np.array() function.<br/>"
   ]
  },
  {
   "cell_type": "code",
   "execution_count": 4,
   "metadata": {
    "scrolled": true
   },
   "outputs": [
    {
     "data": {
      "text/plain": [
       "array([2, 3, 4, 4, 5, 1])"
      ]
     },
     "execution_count": 4,
     "metadata": {},
     "output_type": "execute_result"
    }
   ],
   "source": [
    "import numpy as np\n",
    "list_a = [2,3,4,4,5,1]\n",
    "np.array(list_a)"
   ]
  },
  {
   "cell_type": "markdown",
   "metadata": {},
   "source": [
    "**Creating numpy using tuple**\n",
    "* Create a tuple with some values and assign list to np.array() function.<br/>"
   ]
  },
  {
   "cell_type": "code",
   "execution_count": 8,
   "metadata": {},
   "outputs": [
    {
     "data": {
      "text/plain": [
       "array([2, 3, 4, 4, 5, 1])"
      ]
     },
     "execution_count": 8,
     "metadata": {},
     "output_type": "execute_result"
    }
   ],
   "source": [
    "tuple_a = (2,3,4,4,5,1)\n",
    "np.array(tuple_a)"
   ]
  },
  {
   "cell_type": "markdown",
   "metadata": {},
   "source": [
    "* In above examples np.array() has taken list or tuple data as input and converted it to array.<br/>\n",
    "* In the next example we will see how to provide dtype information to function np.array()"
   ]
  },
  {
   "cell_type": "markdown",
   "metadata": {},
   "source": [
    "**Passing dtype as parameter to numpy array**"
   ]
  },
  {
   "cell_type": "code",
   "execution_count": 8,
   "metadata": {},
   "outputs": [
    {
     "data": {
      "text/plain": [
       "array([ 2.,  3.,  4.,  4.,  5.,  1.], dtype=float16)"
      ]
     },
     "execution_count": 8,
     "metadata": {},
     "output_type": "execute_result"
    }
   ],
   "source": [
    "np.array(list_a,dtype=np.float16)"
   ]
  },
  {
   "cell_type": "code",
   "execution_count": 17,
   "metadata": {},
   "outputs": [
    {
     "data": {
      "text/plain": [
       "array([ 2.,  3.,  4.,  4.,  5.,  1.], dtype=float16)"
      ]
     },
     "execution_count": 17,
     "metadata": {},
     "output_type": "execute_result"
    }
   ],
   "source": [
    "np.array(tuple_a,dtype=np.float16)"
   ]
  },
  {
   "cell_type": "markdown",
   "metadata": {},
   "source": [
    "* If we don't specify the dtype it takes default dtype(int32).<br/>\n",
    "* Till now we have seen all examples using numerical data. In the next example we will use string data.<br/>"
   ]
  },
  {
   "cell_type": "markdown",
   "metadata": {},
   "source": [
    "**Numpy array creation using list of string data**"
   ]
  },
  {
   "cell_type": "code",
   "execution_count": 12,
   "metadata": {},
   "outputs": [
    {
     "data": {
      "text/plain": [
       "array(['hello', 'world', 'friends'],\n",
       "      dtype='<U7')"
      ]
     },
     "execution_count": 12,
     "metadata": {},
     "output_type": "execute_result"
    }
   ],
   "source": [
    "np.array(['hello','world','friends'])"
   ]
  },
  {
   "cell_type": "markdown",
   "metadata": {},
   "source": [
    "**Numpy array creation using tuple of string data**"
   ]
  },
  {
   "cell_type": "code",
   "execution_count": 14,
   "metadata": {},
   "outputs": [
    {
     "data": {
      "text/plain": [
       "array(['hello', 'world', 'friends'],\n",
       "      dtype='<U7')"
      ]
     },
     "execution_count": 14,
     "metadata": {},
     "output_type": "execute_result"
    }
   ],
   "source": [
    "np.array(('hello','world','friends'))"
   ]
  },
  {
   "cell_type": "markdown",
   "metadata": {},
   "source": [
    "* In text arrays size of each element is decided by the maximum size of word.<br/>\n",
    "* In above example longest word is 'friends' and its length(no. of chars) is 7, np.array has considered this length(7) as limit for each string in the array."
   ]
  },
  {
   "cell_type": "markdown",
   "metadata": {},
   "source": [
    "### np.asarray:\n",
    "* Parameters: lists, lists of tuples, tuples, tuples of tuples, tuples of lists and ndarrays.\n",
    "* Result: ndarray"
   ]
  },
  {
   "cell_type": "markdown",
   "metadata": {},
   "source": [
    "* np.asarray() is works similar to np.array, but has fewer parameters.<br/>\n",
    "* But the main difference is that np.array will make a copy of the object(by default), while asarray will not unless necessary.<br/>\n",
    "* It can be understood easily from the example mentioned in this link:<a href=\"https://stackoverflow.com/questions/14415741/numpy-array-vs-asarray/41030256#41030256file\">Numpy - array vs asarray</a>"
   ]
  },
  {
   "cell_type": "markdown",
   "metadata": {},
   "source": [
    "**Numpy creation using asarray from list object**"
   ]
  },
  {
   "cell_type": "code",
   "execution_count": 12,
   "metadata": {},
   "outputs": [
    {
     "data": {
      "text/plain": [
       "array([2, 3, 4, 4, 5, 1])"
      ]
     },
     "execution_count": 12,
     "metadata": {},
     "output_type": "execute_result"
    }
   ],
   "source": [
    "np.asarray(a=list_a,dtype=int)"
   ]
  },
  {
   "cell_type": "markdown",
   "metadata": {},
   "source": [
    "**Numpy creation using asarray from tuple object**"
   ]
  },
  {
   "cell_type": "code",
   "execution_count": 9,
   "metadata": {},
   "outputs": [
    {
     "data": {
      "text/plain": [
       "array([2, 3, 4, 4, 5, 1])"
      ]
     },
     "execution_count": 9,
     "metadata": {},
     "output_type": "execute_result"
    }
   ],
   "source": [
    "np.asarray(a=tuple_a,dtype=int)"
   ]
  },
  {
   "cell_type": "markdown",
   "metadata": {},
   "source": [
    "**Numpy creation using tuples **"
   ]
  },
  {
   "cell_type": "code",
   "execution_count": 11,
   "metadata": {},
   "outputs": [
    {
     "data": {
      "text/plain": [
       "array([[ 1,  4,  6,  7],\n",
       "       [ 5,  8, 13, 14],\n",
       "       [ 0,  1,  5,  1]])"
      ]
     },
     "execution_count": 11,
     "metadata": {},
     "output_type": "execute_result"
    }
   ],
   "source": [
    "tuples = ((1,4,6,7),(5,8,13,14),(0,1,5,1))\n",
    "np.asarray(tuples)"
   ]
  },
  {
   "cell_type": "markdown",
   "metadata": {},
   "source": [
    "* Numpy Library provides functions np.loadtxt(), np.genfromtxt() to read data from text files."
   ]
  },
  {
   "cell_type": "markdown",
   "metadata": {},
   "source": [
    "## From file:\n",
    "### np.loadtxt()\n",
    "* Parameters: file, str, pathlib.Path, list of str, generator\n",
    "* Result: ndarray\n",
    "\n",
    "\n",
    "* np.loadtxt() loads data from a text file.<br/>\n",
    "* Note that each row in the text file must have the same number of values."
   ]
  },
  {
   "cell_type": "markdown",
   "metadata": {},
   "source": [
    "**Numpy creation from text file using loadtxt**<br/>\n",
    "<img src=\"example11.PNG\">"
   ]
  },
  {
   "cell_type": "code",
   "execution_count": 15,
   "metadata": {},
   "outputs": [
    {
     "data": {
      "text/plain": [
       "array([ 1.,  2.,  3.,  4.,  5.,  6.])"
      ]
     },
     "execution_count": 15,
     "metadata": {},
     "output_type": "execute_result"
    }
   ],
   "source": [
    "np.loadtxt('example1.txt')"
   ]
  },
  {
   "cell_type": "markdown",
   "metadata": {},
   "source": [
    "* Default dtype and delimiter of np.loadtxt are float,space(' ') respectively.<br/>\n",
    "* Next Example illustrates how to pass dtype info and gives you an idea how to sepatrate values in text file using delimiter.\n",
    "* If data contains multiple data types we need to specify dtype information."
   ]
  },
  {
   "cell_type": "markdown",
   "metadata": {},
   "source": [
    "**Numpy creation from textfile which contains both string and numerical data using loadtxt**<br/>\n",
    "\n",
    "<img src=\"example2.PNG\">"
   ]
  },
  {
   "cell_type": "code",
   "execution_count": 20,
   "metadata": {},
   "outputs": [
    {
     "data": {
      "text/plain": [
       "array([['Name', ' Age', 'Sex '],\n",
       "       ['John', ' 23', ' M  '],\n",
       "       ['Ram', ' 30', ' M  '],\n",
       "       ['Ali', '29', ' M  '],\n",
       "       ['Seeta', ' 20', ' F '],\n",
       "       ['julia', ' 18', ' F '],\n",
       "       ['Shami', ' 35', ' F '],\n",
       "       ['End', ' End', ' End ']],\n",
       "      dtype='<U5')"
      ]
     },
     "execution_count": 20,
     "metadata": {},
     "output_type": "execute_result"
    }
   ],
   "source": [
    "np.loadtxt('example2.txt',dtype='U',delimiter=',')"
   ]
  },
  {
   "cell_type": "markdown",
   "metadata": {},
   "source": [
    "* Exmaple2.txt containing both numerical and text data. So, prefered Unicode string as dtype.\n",
    "* Below examples illustrates how to skip comments,specified rows and columns information.<br/>"
   ]
  },
  {
   "cell_type": "markdown",
   "metadata": {},
   "source": [
    "**Numpy creation using loadtxt method with comments and skiprows arguments**\n",
    "<img src=\"exmaple3.PNG\">"
   ]
  },
  {
   "cell_type": "markdown",
   "metadata": {},
   "source": [
    "* Comments argument skip the chars which appears after '//.<br/>\n",
    "* By default np.loadtxt excludes text after '#' if we don't provide value to comments argument.<br/>\n",
    "* Skiprows is useful to ignore the unimportant rows in text file."
   ]
  },
  {
   "cell_type": "code",
   "execution_count": 140,
   "metadata": {},
   "outputs": [
    {
     "data": {
      "text/plain": [
       "array([['Dhoni', '29', 'M  '],\n",
       "       ['Virat', '20', 'F '],\n",
       "       ['mithaali', '18', 'F '],\n",
       "       ['Shami', '35', 'F '],\n",
       "       ['End', 'End', 'End ']],\n",
       "      dtype='<U34')"
      ]
     },
     "execution_count": 140,
     "metadata": {},
     "output_type": "execute_result"
    }
   ],
   "source": [
    "np.loadtxt('example3.txt',dtype='U34',delimiter=',',comments='//',skiprows=3)"
   ]
  },
  {
   "cell_type": "markdown",
   "metadata": {},
   "source": [
    "* To get only important columns from text file use usecols argument. \n",
    "* See below code to know how to pass columns information."
   ]
  },
  {
   "cell_type": "markdown",
   "metadata": {},
   "source": [
    "**Usage of numpy usecols param**"
   ]
  },
  {
   "cell_type": "code",
   "execution_count": 142,
   "metadata": {},
   "outputs": [
    {
     "data": {
      "text/plain": [
       "array([['Age', 'Sex '],\n",
       "       ['23', 'M  '],\n",
       "       ['30', 'M  '],\n",
       "       ['29', 'M  '],\n",
       "       ['20', 'F '],\n",
       "       ['18', 'F '],\n",
       "       ['35', 'F '],\n",
       "       ['End', 'End ']],\n",
       "      dtype='<U16')"
      ]
     },
     "execution_count": 142,
     "metadata": {},
     "output_type": "execute_result"
    }
   ],
   "source": [
    "np.loadtxt('example3.txt',dtype='U16',delimiter=',',comments='//',usecols=(1,2))"
   ]
  },
  {
   "cell_type": "markdown",
   "metadata": {},
   "source": [
    "### np.genfromfile():\n",
    "* Parameters: file, str, pathlib.Path, list of str, generator\n",
    "* Result: ndarray"
   ]
  },
  {
   "cell_type": "markdown",
   "metadata": {},
   "source": [
    "* Like np.loadtxt, np.genfromtxt also loads data from text files and archives((currently,it recognizes only gzip,bzip2).<br/>\n",
    "* np.genfromtxt completes tasks in two main loops. First loop converts lines in text file to sequence of strings.\n",
    "  The second one converts each string to the appropriate data type.<br/>   \n",
    "* Since it is using two loops to complete a task, it is relatively slower than single loop method.<br/>\n",
    "* It is a flexible method to handle missing values.<br/>\n",
    "* Note:np.loadtxt cann't handle missing values."
   ]
  },
  {
   "cell_type": "markdown",
   "metadata": {
    "collapsed": true
   },
   "source": [
    "**Numpy creation using genfromtext method**"
   ]
  },
  {
   "cell_type": "code",
   "execution_count": 151,
   "metadata": {},
   "outputs": [
    {
     "data": {
      "text/plain": [
       "array([ 1.,  2.,  3.,  4.,  5.,  6.])"
      ]
     },
     "execution_count": 151,
     "metadata": {},
     "output_type": "execute_result"
    }
   ],
   "source": [
    "np.genfromtxt(fname='example1.txt')"
   ]
  },
  {
   "cell_type": "markdown",
   "metadata": {},
   "source": [
    "** In np.genfromtxt If dtype is None, then dtypes will be determined by the contents of the data itself**"
   ]
  },
  {
   "cell_type": "code",
   "execution_count": 27,
   "metadata": {},
   "outputs": [
    {
     "data": {
      "text/plain": [
       "array([[b'Name', b' Age', b'Sex'],\n",
       "       [b'John', b' 23', b' M'],\n",
       "       [b'Ram', b' 30', b' M'],\n",
       "       [b'Ali', b'29', b' M'],\n",
       "       [b'Seeta', b' 20', b' F'],\n",
       "       [b'julia', b' 18', b' F'],\n",
       "       [b'Shami', b' 35', b' F'],\n",
       "       [b'End', b' End', b' End']],\n",
       "      dtype='|S5')"
      ]
     },
     "execution_count": 27,
     "metadata": {},
     "output_type": "execute_result"
    }
   ],
   "source": [
    "np.genfromtxt(fname='example2.txt',dtype=None,delimiter=',')"
   ]
  },
  {
   "cell_type": "markdown",
   "metadata": {},
   "source": [
    "**Numpy creation from textfile which contains both string and numerical data using genfromtxt**"
   ]
  },
  {
   "cell_type": "code",
   "execution_count": 24,
   "metadata": {},
   "outputs": [
    {
     "data": {
      "text/plain": [
       "array([['Name', ' Age', 'Sex'],\n",
       "       ['John', ' 23', ' M'],\n",
       "       ['Ram', ' 30', ' M'],\n",
       "       ['Ali', '29', ' M'],\n",
       "       ['Seeta', ' 20', ' F'],\n",
       "       ['julia', ' 18', ' F'],\n",
       "       ['Shami', ' 35', ' F'],\n",
       "       ['End', ' End', ' End']],\n",
       "      dtype='<U16')"
      ]
     },
     "execution_count": 24,
     "metadata": {},
     "output_type": "execute_result"
    }
   ],
   "source": [
    "np.genfromtxt(fname='example2.txt',dtype='U16',delimiter=',')"
   ]
  },
  {
   "cell_type": "markdown",
   "metadata": {},
   "source": [
    "**Example to understand comments,skip_header,skip_footer of genfromtxt**"
   ]
  },
  {
   "cell_type": "code",
   "execution_count": 36,
   "metadata": {},
   "outputs": [
    {
     "data": {
      "text/plain": [
       "array([['Name', 'Age', 'Sex //this is header'],\n",
       "       ['Hpandey', '23', 'M'],\n",
       "       ['KPandey', '30', 'M'],\n",
       "       ['Dhoni', '29', 'M'],\n",
       "       ['Virat', '20', 'F'],\n",
       "       ['mithaali', '18', 'F'],\n",
       "       ['Shami', '35', 'F'],\n",
       "       ['End', 'End', 'End // this is footer']],\n",
       "      dtype='<U34')"
      ]
     },
     "execution_count": 36,
     "metadata": {},
     "output_type": "execute_result"
    }
   ],
   "source": [
    "np.genfromtxt(fname='example3.txt',dtype='U34',delimiter=',')"
   ]
  },
  {
   "cell_type": "markdown",
   "metadata": {},
   "source": [
    "* If you observe above code didn't skip the comments while creating numpy array.\n",
    "* To Remove comments,header andfooter information use comments,skip_header and skip_footer arguments respectively."
   ]
  },
  {
   "cell_type": "code",
   "execution_count": 146,
   "metadata": {},
   "outputs": [
    {
     "data": {
      "text/plain": [
       "array([['Hpandey', '23', 'M'],\n",
       "       ['KPandey', '30', 'M'],\n",
       "       ['Dhoni', '29', 'M'],\n",
       "       ['Virat', '20', 'F'],\n",
       "       ['mithaali', '18', 'F'],\n",
       "       ['Shami', '35', 'F']],\n",
       "      dtype='<U34')"
      ]
     },
     "execution_count": 146,
     "metadata": {},
     "output_type": "execute_result"
    }
   ],
   "source": [
    "np.genfromtxt(fname='example3.txt',dtype='U34',delimiter=',',skip_header=True,skip_footer=True,comments='//')"
   ]
  },
  {
   "cell_type": "markdown",
   "metadata": {},
   "source": [
    "* In above example , genfromtxt skipped header data(Name,Age,Sex) and footer data(End,End,End) using skip_header and skip_footer \n",
    "* Observe  above output, it removed comments as well."
   ]
  },
  {
   "cell_type": "markdown",
   "metadata": {},
   "source": [
    "** Genfromtxt missing values handling**"
   ]
  },
  {
   "cell_type": "markdown",
   "metadata": {},
   "source": [
    "* As mentioned that genfromtxt is capable of handling missing values.<br/>"
   ]
  },
  {
   "cell_type": "markdown",
   "metadata": {},
   "source": [
    "<img src=\"exmaple4.PNG\">"
   ]
  },
  {
   "cell_type": "markdown",
   "metadata": {},
   "source": [
    "**Creating numpy array from textfile which has missing values**"
   ]
  },
  {
   "cell_type": "code",
   "execution_count": 178,
   "metadata": {},
   "outputs": [
    {
     "data": {
      "text/plain": [
       "array([[  1.,   2.,   3.,  nan,   5.],\n",
       "       [  6.,   7.,  nan,   9.,  10.],\n",
       "       [ 11.,  12.,  nan,  14.,  15.]])"
      ]
     },
     "execution_count": 178,
     "metadata": {},
     "output_type": "execute_result"
    }
   ],
   "source": [
    "np.genfromtxt(fname='example4.txt',delimiter=',')"
   ]
  },
  {
   "cell_type": "markdown",
   "metadata": {},
   "source": [
    "* It has an argument filling_values, with help of it we can set default value to missing values.\n",
    "* Below exmaple replaces missing values with 0."
   ]
  },
  {
   "cell_type": "markdown",
   "metadata": {},
   "source": [
    "**Replacing missing values with default value**"
   ]
  },
  {
   "cell_type": "code",
   "execution_count": 181,
   "metadata": {},
   "outputs": [
    {
     "data": {
      "text/plain": [
       "array([[  1.,   2.,   3.,   0.,   5.],\n",
       "       [  6.,   7.,   0.,   9.,  10.],\n",
       "       [ 11.,  12.,   0.,  14.,  15.]])"
      ]
     },
     "execution_count": 181,
     "metadata": {},
     "output_type": "execute_result"
    }
   ],
   "source": [
    "default_data = '0'\n",
    "np.genfromtxt(fname='example4.txt',delimiter=',',filling_values=default_data)"
   ]
  },
  {
   "cell_type": "markdown",
   "metadata": {},
   "source": [
    "**Numpy creation from byte stream**"
   ]
  },
  {
   "cell_type": "markdown",
   "metadata": {},
   "source": [
    "* This example gives you an idea on how to create byte stream for given string."
   ]
  },
  {
   "cell_type": "code",
   "execution_count": 39,
   "metadata": {},
   "outputs": [
    {
     "data": {
      "text/plain": [
       "array([[ 2.,  3.,  1.],\n",
       "       [ 4.,  1.,  1.]])"
      ]
     },
     "execution_count": 39,
     "metadata": {},
     "output_type": "execute_result"
    }
   ],
   "source": [
    "from io import BytesIO\n",
    "data = BytesIO(\"2,3,1\\n4,1,1\".encode('utf8'))\n",
    "np.genfromtxt(data,delimiter=',')"
   ]
  },
  {
   "cell_type": "markdown",
   "metadata": {},
   "source": [
    "### Conclusion:\n",
    "In this chanpter we have seen numpy creation using np.array, np.asarray, np.loadtxt,np.genfromtxt functions.<br/>\n",
    "In the next chanpter we will learn  Numpy Accessing Elements Techniques."
   ]
  }
 ],
 "metadata": {
  "kernelspec": {
   "display_name": "Python 3",
   "language": "python",
   "name": "python3"
  },
  "language_info": {
   "codemirror_mode": {
    "name": "ipython",
    "version": 3
   },
   "file_extension": ".py",
   "mimetype": "text/x-python",
   "name": "python",
   "nbconvert_exporter": "python",
   "pygments_lexer": "ipython3",
   "version": "3.6.3"
  }
 },
 "nbformat": 4,
 "nbformat_minor": 2
}
