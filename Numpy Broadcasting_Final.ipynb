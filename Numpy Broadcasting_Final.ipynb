{
 "cells": [
  {
   "cell_type": "markdown",
   "metadata": {},
   "source": [
    "# Agenda\n",
    "\n",
    "* Introduction to Numpy Broadcasting\n",
    "* Broadcasting Rules \n",
    "* Examples\n",
    "       "
   ]
  },
  {
   "cell_type": "markdown",
   "metadata": {},
   "source": [
    "## Introduction to Numpy Broadcasting\n",
    "\n",
    "* The term broadcasting refers to the ability of NumPy to treat arrays of different shapes during arithmetic operations.\n",
    "* Arithmetic operations on arrays are usually done on corresponding elements. If two arrays are of exactly the same shape, then   these operations are smoothly performed."
   ]
  },
  {
   "cell_type": "markdown",
   "metadata": {},
   "source": [
    "#### Broadcasting is possible if the following rules are satisfied \n",
    "\n",
    "* Array with smaller ndim than the other is prepended with '1' in its shape.\n",
    "\n",
    "* Size in each dimension of the output shape is maximum of the input sizes in that dimension.\n",
    "\n",
    "* An input can be used in calculation, if its size in a particular dimension matches the output size or its value is exactly 1.\n",
    "\n",
    "* If an input has a dimension size of 1, the first data entry in that dimension is used for all calculations along that dimension.\n"
   ]
  },
  {
   "cell_type": "markdown",
   "metadata": {},
   "source": [
    "#### A set of arrays is said to be broadcastable if the above rules produce a valid result and one of the following is true \n",
    "\n",
    "* Arrays have exactly the same shape.\n",
    "\n",
    "* Arrays have the same number of dimensions and the length of each dimension is either a common length or 1.\n",
    "\n",
    "* Array having too few dimensions can have its shape prepended with a dimension of length 1, so that the above stated property is true."
   ]
  },
  {
   "cell_type": "code",
   "execution_count": 10,
   "metadata": {
    "collapsed": true
   },
   "outputs": [],
   "source": [
    "import numpy as np"
   ]
  },
  {
   "cell_type": "code",
   "execution_count": 15,
   "metadata": {},
   "outputs": [
    {
     "data": {
      "text/plain": [
       "array([1, 2, 3, 4])"
      ]
     },
     "execution_count": 15,
     "metadata": {},
     "output_type": "execute_result"
    }
   ],
   "source": [
    "a = np.array([1,2,3,4])\n",
    "a\n"
   ]
  },
  {
   "cell_type": "code",
   "execution_count": 17,
   "metadata": {},
   "outputs": [
    {
     "data": {
      "text/plain": [
       "array([[1, 2, 3, 4],\n",
       "       [5, 6, 7, 8]])"
      ]
     },
     "execution_count": 17,
     "metadata": {},
     "output_type": "execute_result"
    }
   ],
   "source": [
    "b = np.array([ [1,2,3,4], [5,6,7,8]])\n",
    "b"
   ]
  },
  {
   "cell_type": "code",
   "execution_count": 5,
   "metadata": {},
   "outputs": [
    {
     "data": {
      "text/plain": [
       "array([[ 2,  4,  6,  8],\n",
       "       [ 6,  8, 10, 12]])"
      ]
     },
     "execution_count": 5,
     "metadata": {},
     "output_type": "execute_result"
    }
   ],
   "source": [
    "a + b"
   ]
  },
  {
   "cell_type": "code",
   "execution_count": 6,
   "metadata": {
    "collapsed": true
   },
   "outputs": [],
   "source": [
    "c = np.array([ [1,2,3,4], [5,6,7,8]])"
   ]
  },
  {
   "cell_type": "code",
   "execution_count": 7,
   "metadata": {},
   "outputs": [
    {
     "data": {
      "text/plain": [
       "array([[ 2,  4,  6,  8],\n",
       "       [10, 12, 14, 16]])"
      ]
     },
     "execution_count": 7,
     "metadata": {},
     "output_type": "execute_result"
    }
   ],
   "source": [
    "b+c"
   ]
  },
  {
   "cell_type": "code",
   "execution_count": 8,
   "metadata": {},
   "outputs": [
    {
     "data": {
      "text/plain": [
       "array([[ 1,  4,  9, 16],\n",
       "       [25, 36, 49, 64]])"
      ]
     },
     "execution_count": 8,
     "metadata": {},
     "output_type": "execute_result"
    }
   ],
   "source": [
    "b*c"
   ]
  },
  {
   "cell_type": "code",
   "execution_count": 9,
   "metadata": {},
   "outputs": [
    {
     "data": {
      "text/plain": [
       "(2, 4)"
      ]
     },
     "execution_count": 9,
     "metadata": {},
     "output_type": "execute_result"
    }
   ],
   "source": [
    "b.shape"
   ]
  },
  {
   "cell_type": "code",
   "execution_count": 10,
   "metadata": {},
   "outputs": [
    {
     "data": {
      "text/plain": [
       "2"
      ]
     },
     "execution_count": 10,
     "metadata": {},
     "output_type": "execute_result"
    }
   ],
   "source": [
    "b.ndim"
   ]
  },
  {
   "cell_type": "code",
   "execution_count": 11,
   "metadata": {},
   "outputs": [
    {
     "data": {
      "text/plain": [
       "(4,)"
      ]
     },
     "execution_count": 11,
     "metadata": {},
     "output_type": "execute_result"
    }
   ],
   "source": [
    "a.shape"
   ]
  },
  {
   "cell_type": "markdown",
   "metadata": {},
   "source": [
    "#### In below image we can see that we have two arrays of different sizes (1,3) and(1,) so it is difficult to perform arithmetic operations   hence the second array  will be braodcasted with size (1,3) with values 6 in each box  so we can perform operations easily."
   ]
  },
  {
   "cell_type": "markdown",
   "metadata": {},
   "source": [
    "<img src=\"https://raw.githubusercontent.com/sharathchandu0007/data-science-notes/master/broadcast1.PNG\"/>\n",
    "\n",
    "<img src =\"https://raw.githubusercontent.com/sharathchandu0007/data-science-notes/master/broadcast2.PNG\"/>\n",
    "\n",
    "<img src= \"https://raw.githubusercontent.com/suresrividya/data-science-notes/master/broadcst3new.PNG\"/>"
   ]
  },
  {
   "cell_type": "markdown",
   "metadata": {},
   "source": [
    "#### In this image we have two arrays of size (3,3) and (1,3) to perform arithmetic operations the second array will be broacasted to size(3,3) with values similar in the second array "
   ]
  },
  {
   "cell_type": "markdown",
   "metadata": {},
   "source": [
    "<img src =\"https://raw.githubusercontent.com/sharathchandu0007/data-science-notes/master/broadcast2.PNG\"/>"
   ]
  },
  {
   "cell_type": "markdown",
   "metadata": {},
   "source": [
    "#### In below image first array has shape (3,1) and Second array has shape (1,3) . Both the shapes are not in match with any of the dimension. Hence, the both arrays need to be broadcasted in ordered to perform any arithmetic operation"
   ]
  },
  {
   "cell_type": "markdown",
   "metadata": {},
   "source": [
    "<img src= \"https://raw.githubusercontent.com/suresrividya/data-science-notes/master/broadcst3new.PNG\"/>"
   ]
  },
  {
   "cell_type": "markdown",
   "metadata": {},
   "source": [
    "## Broadcasting Rules "
   ]
  },
  {
   "cell_type": "markdown",
   "metadata": {},
   "source": [
    "#### Rule 1\n",
    "* The first rule of broadcasting is that if all input arrays do not have the same number of dimensions, a “1” will be repeatedly prepended to the shapes of the smaller arrays until all the arrays have the same number of dimensions."
   ]
  },
  {
   "cell_type": "code",
   "execution_count": 12,
   "metadata": {},
   "outputs": [
    {
     "data": {
      "text/plain": [
       "array([[1, 2, 3, 4]])"
      ]
     },
     "execution_count": 12,
     "metadata": {},
     "output_type": "execute_result"
    }
   ],
   "source": [
    "a.reshape(1,4)"
   ]
  },
  {
   "cell_type": "markdown",
   "metadata": {},
   "source": [
    "#### Rule 2\n",
    "* The second rule of broadcasting ensures that arrays with a size of 1 along a particular dimension act as if they had the size of the array with the largest shape along that dimension. The value of the array element is assumed to be the same along that dimension for the “broadcast” array."
   ]
  },
  {
   "cell_type": "code",
   "execution_count": 45,
   "metadata": {
    "collapsed": true
   },
   "outputs": [],
   "source": [
    "a = np.random.randint(10,size=(2,3))"
   ]
  },
  {
   "cell_type": "code",
   "execution_count": 46,
   "metadata": {
    "collapsed": true
   },
   "outputs": [],
   "source": [
    "b = np.random.randint(20, size=(3,4))"
   ]
  },
  {
   "cell_type": "markdown",
   "metadata": {},
   "source": [
    "## Examples "
   ]
  },
  {
   "cell_type": "markdown",
   "metadata": {},
   "source": [
    "#### while multipying a*b it throws error because of shape of a and b dosent match"
   ]
  },
  {
   "cell_type": "code",
   "execution_count": 47,
   "metadata": {},
   "outputs": [
    {
     "ename": "ValueError",
     "evalue": "operands could not be broadcast together with shapes (2,3) (3,4) ",
     "output_type": "error",
     "traceback": [
      "\u001b[1;31m---------------------------------------------------------------------------\u001b[0m",
      "\u001b[1;31mValueError\u001b[0m                                Traceback (most recent call last)",
      "\u001b[1;32m<ipython-input-47-8201c27d19b7>\u001b[0m in \u001b[0;36m<module>\u001b[1;34m()\u001b[0m\n\u001b[1;32m----> 1\u001b[1;33m \u001b[0ma\u001b[0m\u001b[1;33m*\u001b[0m\u001b[0mb\u001b[0m\u001b[1;33m\u001b[0m\u001b[0m\n\u001b[0m",
      "\u001b[1;31mValueError\u001b[0m: operands could not be broadcast together with shapes (2,3) (3,4) "
     ]
    }
   ],
   "source": [
    "a*b"
   ]
  },
  {
   "cell_type": "markdown",
   "metadata": {},
   "source": [
    "#### The shapes of both a and b are different ,so as of rule we will add 1's for which they are not matching a.shape=(2,3,1) and b.shape=(1,3,4)\n",
    "* PS : There is more than one correct answer as long as rule is satisfied"
   ]
  },
  {
   "cell_type": "code",
   "execution_count": 48,
   "metadata": {},
   "outputs": [
    {
     "data": {
      "text/plain": [
       "array([[[6],\n",
       "        [4],\n",
       "        [7]],\n",
       "\n",
       "       [[3],\n",
       "        [6],\n",
       "        [0]]])"
      ]
     },
     "execution_count": 48,
     "metadata": {},
     "output_type": "execute_result"
    }
   ],
   "source": [
    "a.reshape(2,3,1)"
   ]
  },
  {
   "cell_type": "code",
   "execution_count": 49,
   "metadata": {},
   "outputs": [
    {
     "data": {
      "text/plain": [
       "array([[[ 9, 11,  4, 18],\n",
       "        [11,  4,  9,  7],\n",
       "        [ 4, 11,  4,  4]]])"
      ]
     },
     "execution_count": 49,
     "metadata": {},
     "output_type": "execute_result"
    }
   ],
   "source": [
    "b.reshape(1,3,4)"
   ]
  },
  {
   "cell_type": "code",
   "execution_count": 50,
   "metadata": {},
   "outputs": [
    {
     "data": {
      "text/plain": [
       "array([[[15, 17, 10, 24],\n",
       "        [15,  8, 13, 11],\n",
       "        [11, 18, 11, 11]],\n",
       "\n",
       "       [[12, 14,  7, 21],\n",
       "        [17, 10, 15, 13],\n",
       "        [ 4, 11,  4,  4]]])"
      ]
     },
     "execution_count": 50,
     "metadata": {},
     "output_type": "execute_result"
    }
   ],
   "source": [
    "a.reshape(2,3,1) + b.reshape(1,3,4)"
   ]
  },
  {
   "cell_type": "markdown",
   "metadata": {},
   "source": [
    "#### example 2"
   ]
  },
  {
   "cell_type": "code",
   "execution_count": 33,
   "metadata": {
    "collapsed": true
   },
   "outputs": [],
   "source": [
    "a = np.random.randint(5,10,size=(2,3,4))\n",
    "b = np.random.randint(5,10,size=(6,5))"
   ]
  },
  {
   "cell_type": "markdown",
   "metadata": {},
   "source": [
    "#### In this example the sizes dosent match so as of rule we add 1's in the dimensions,where ever the values do not match"
   ]
  },
  {
   "cell_type": "code",
   "execution_count": 34,
   "metadata": {},
   "outputs": [
    {
     "data": {
      "text/plain": [
       "array([[[[[16, 16, 16, 16],\n",
       "          [14, 12, 14, 15],\n",
       "          [12, 16, 12, 15]],\n",
       "\n",
       "         [[14, 14, 15, 12],\n",
       "          [16, 13, 13, 14],\n",
       "          [16, 12, 14, 15]]],\n",
       "\n",
       "\n",
       "        [[[18, 18, 18, 18],\n",
       "          [16, 14, 16, 17],\n",
       "          [14, 18, 14, 17]],\n",
       "\n",
       "         [[16, 16, 17, 14],\n",
       "          [18, 15, 15, 16],\n",
       "          [18, 14, 16, 17]]],\n",
       "\n",
       "\n",
       "        [[[18, 18, 18, 18],\n",
       "          [16, 14, 16, 17],\n",
       "          [14, 18, 14, 17]],\n",
       "\n",
       "         [[16, 16, 17, 14],\n",
       "          [18, 15, 15, 16],\n",
       "          [18, 14, 16, 17]]],\n",
       "\n",
       "\n",
       "        [[[17, 17, 17, 17],\n",
       "          [15, 13, 15, 16],\n",
       "          [13, 17, 13, 16]],\n",
       "\n",
       "         [[15, 15, 16, 13],\n",
       "          [17, 14, 14, 15],\n",
       "          [17, 13, 15, 16]]],\n",
       "\n",
       "\n",
       "        [[[16, 16, 16, 16],\n",
       "          [14, 12, 14, 15],\n",
       "          [12, 16, 12, 15]],\n",
       "\n",
       "         [[14, 14, 15, 12],\n",
       "          [16, 13, 13, 14],\n",
       "          [16, 12, 14, 15]]]],\n",
       "\n",
       "\n",
       "\n",
       "       [[[[18, 18, 18, 18],\n",
       "          [16, 14, 16, 17],\n",
       "          [14, 18, 14, 17]],\n",
       "\n",
       "         [[16, 16, 17, 14],\n",
       "          [18, 15, 15, 16],\n",
       "          [18, 14, 16, 17]]],\n",
       "\n",
       "\n",
       "        [[[16, 16, 16, 16],\n",
       "          [14, 12, 14, 15],\n",
       "          [12, 16, 12, 15]],\n",
       "\n",
       "         [[14, 14, 15, 12],\n",
       "          [16, 13, 13, 14],\n",
       "          [16, 12, 14, 15]]],\n",
       "\n",
       "\n",
       "        [[[18, 18, 18, 18],\n",
       "          [16, 14, 16, 17],\n",
       "          [14, 18, 14, 17]],\n",
       "\n",
       "         [[16, 16, 17, 14],\n",
       "          [18, 15, 15, 16],\n",
       "          [18, 14, 16, 17]]],\n",
       "\n",
       "\n",
       "        [[[14, 14, 14, 14],\n",
       "          [12, 10, 12, 13],\n",
       "          [10, 14, 10, 13]],\n",
       "\n",
       "         [[12, 12, 13, 10],\n",
       "          [14, 11, 11, 12],\n",
       "          [14, 10, 12, 13]]],\n",
       "\n",
       "\n",
       "        [[[18, 18, 18, 18],\n",
       "          [16, 14, 16, 17],\n",
       "          [14, 18, 14, 17]],\n",
       "\n",
       "         [[16, 16, 17, 14],\n",
       "          [18, 15, 15, 16],\n",
       "          [18, 14, 16, 17]]]],\n",
       "\n",
       "\n",
       "\n",
       "       [[[[17, 17, 17, 17],\n",
       "          [15, 13, 15, 16],\n",
       "          [13, 17, 13, 16]],\n",
       "\n",
       "         [[15, 15, 16, 13],\n",
       "          [17, 14, 14, 15],\n",
       "          [17, 13, 15, 16]]],\n",
       "\n",
       "\n",
       "        [[[16, 16, 16, 16],\n",
       "          [14, 12, 14, 15],\n",
       "          [12, 16, 12, 15]],\n",
       "\n",
       "         [[14, 14, 15, 12],\n",
       "          [16, 13, 13, 14],\n",
       "          [16, 12, 14, 15]]],\n",
       "\n",
       "\n",
       "        [[[16, 16, 16, 16],\n",
       "          [14, 12, 14, 15],\n",
       "          [12, 16, 12, 15]],\n",
       "\n",
       "         [[14, 14, 15, 12],\n",
       "          [16, 13, 13, 14],\n",
       "          [16, 12, 14, 15]]],\n",
       "\n",
       "\n",
       "        [[[17, 17, 17, 17],\n",
       "          [15, 13, 15, 16],\n",
       "          [13, 17, 13, 16]],\n",
       "\n",
       "         [[15, 15, 16, 13],\n",
       "          [17, 14, 14, 15],\n",
       "          [17, 13, 15, 16]]],\n",
       "\n",
       "\n",
       "        [[[17, 17, 17, 17],\n",
       "          [15, 13, 15, 16],\n",
       "          [13, 17, 13, 16]],\n",
       "\n",
       "         [[15, 15, 16, 13],\n",
       "          [17, 14, 14, 15],\n",
       "          [17, 13, 15, 16]]]],\n",
       "\n",
       "\n",
       "\n",
       "       [[[[16, 16, 16, 16],\n",
       "          [14, 12, 14, 15],\n",
       "          [12, 16, 12, 15]],\n",
       "\n",
       "         [[14, 14, 15, 12],\n",
       "          [16, 13, 13, 14],\n",
       "          [16, 12, 14, 15]]],\n",
       "\n",
       "\n",
       "        [[[16, 16, 16, 16],\n",
       "          [14, 12, 14, 15],\n",
       "          [12, 16, 12, 15]],\n",
       "\n",
       "         [[14, 14, 15, 12],\n",
       "          [16, 13, 13, 14],\n",
       "          [16, 12, 14, 15]]],\n",
       "\n",
       "\n",
       "        [[[18, 18, 18, 18],\n",
       "          [16, 14, 16, 17],\n",
       "          [14, 18, 14, 17]],\n",
       "\n",
       "         [[16, 16, 17, 14],\n",
       "          [18, 15, 15, 16],\n",
       "          [18, 14, 16, 17]]],\n",
       "\n",
       "\n",
       "        [[[15, 15, 15, 15],\n",
       "          [13, 11, 13, 14],\n",
       "          [11, 15, 11, 14]],\n",
       "\n",
       "         [[13, 13, 14, 11],\n",
       "          [15, 12, 12, 13],\n",
       "          [15, 11, 13, 14]]],\n",
       "\n",
       "\n",
       "        [[[15, 15, 15, 15],\n",
       "          [13, 11, 13, 14],\n",
       "          [11, 15, 11, 14]],\n",
       "\n",
       "         [[13, 13, 14, 11],\n",
       "          [15, 12, 12, 13],\n",
       "          [15, 11, 13, 14]]]],\n",
       "\n",
       "\n",
       "\n",
       "       [[[[17, 17, 17, 17],\n",
       "          [15, 13, 15, 16],\n",
       "          [13, 17, 13, 16]],\n",
       "\n",
       "         [[15, 15, 16, 13],\n",
       "          [17, 14, 14, 15],\n",
       "          [17, 13, 15, 16]]],\n",
       "\n",
       "\n",
       "        [[[14, 14, 14, 14],\n",
       "          [12, 10, 12, 13],\n",
       "          [10, 14, 10, 13]],\n",
       "\n",
       "         [[12, 12, 13, 10],\n",
       "          [14, 11, 11, 12],\n",
       "          [14, 10, 12, 13]]],\n",
       "\n",
       "\n",
       "        [[[14, 14, 14, 14],\n",
       "          [12, 10, 12, 13],\n",
       "          [10, 14, 10, 13]],\n",
       "\n",
       "         [[12, 12, 13, 10],\n",
       "          [14, 11, 11, 12],\n",
       "          [14, 10, 12, 13]]],\n",
       "\n",
       "\n",
       "        [[[18, 18, 18, 18],\n",
       "          [16, 14, 16, 17],\n",
       "          [14, 18, 14, 17]],\n",
       "\n",
       "         [[16, 16, 17, 14],\n",
       "          [18, 15, 15, 16],\n",
       "          [18, 14, 16, 17]]],\n",
       "\n",
       "\n",
       "        [[[17, 17, 17, 17],\n",
       "          [15, 13, 15, 16],\n",
       "          [13, 17, 13, 16]],\n",
       "\n",
       "         [[15, 15, 16, 13],\n",
       "          [17, 14, 14, 15],\n",
       "          [17, 13, 15, 16]]]],\n",
       "\n",
       "\n",
       "\n",
       "       [[[[14, 14, 14, 14],\n",
       "          [12, 10, 12, 13],\n",
       "          [10, 14, 10, 13]],\n",
       "\n",
       "         [[12, 12, 13, 10],\n",
       "          [14, 11, 11, 12],\n",
       "          [14, 10, 12, 13]]],\n",
       "\n",
       "\n",
       "        [[[17, 17, 17, 17],\n",
       "          [15, 13, 15, 16],\n",
       "          [13, 17, 13, 16]],\n",
       "\n",
       "         [[15, 15, 16, 13],\n",
       "          [17, 14, 14, 15],\n",
       "          [17, 13, 15, 16]]],\n",
       "\n",
       "\n",
       "        [[[18, 18, 18, 18],\n",
       "          [16, 14, 16, 17],\n",
       "          [14, 18, 14, 17]],\n",
       "\n",
       "         [[16, 16, 17, 14],\n",
       "          [18, 15, 15, 16],\n",
       "          [18, 14, 16, 17]]],\n",
       "\n",
       "\n",
       "        [[[15, 15, 15, 15],\n",
       "          [13, 11, 13, 14],\n",
       "          [11, 15, 11, 14]],\n",
       "\n",
       "         [[13, 13, 14, 11],\n",
       "          [15, 12, 12, 13],\n",
       "          [15, 11, 13, 14]]],\n",
       "\n",
       "\n",
       "        [[[14, 14, 14, 14],\n",
       "          [12, 10, 12, 13],\n",
       "          [10, 14, 10, 13]],\n",
       "\n",
       "         [[12, 12, 13, 10],\n",
       "          [14, 11, 11, 12],\n",
       "          [14, 10, 12, 13]]]]])"
      ]
     },
     "execution_count": 34,
     "metadata": {},
     "output_type": "execute_result"
    }
   ],
   "source": [
    "a.reshape(1,1,2,3,4) + b.reshape(6,5,1,1,1)"
   ]
  },
  {
   "cell_type": "markdown",
   "metadata": {
    "collapsed": true
   },
   "source": [
    "## Conclusion\n",
    "\n",
    "In this chapter we had discussed broadcasting and its rules with examples. To know data analysis with pandas please visit pandas series."
   ]
  }
 ],
 "metadata": {
  "kernelspec": {
   "display_name": "Python 3",
   "language": "python",
   "name": "python3"
  },
  "language_info": {
   "codemirror_mode": {
    "name": "ipython",
    "version": 3
   },
   "file_extension": ".py",
   "mimetype": "text/x-python",
   "name": "python",
   "nbconvert_exporter": "python",
   "pygments_lexer": "ipython3",
   "version": "3.6.3"
  }
 },
 "nbformat": 4,
 "nbformat_minor": 2
}
